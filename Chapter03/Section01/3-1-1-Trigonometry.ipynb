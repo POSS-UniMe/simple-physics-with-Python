{
 "cells": [
  {
   "cell_type": "markdown",
   "metadata": {},
   "source": [
    "# Measuring angles\n",
    "\n",
    "![](img/annotatedSandAngle.jpg)\n",
    "\n",
    "What is the measure in degrees of an angle of one radian?\n",
    "\n",
    "We want to draw a circular sector corresponding to an angle whose measure is one radian.\n",
    "\n",
    "## Discussion\n",
    "Given an arc of a circumference having radius $r$ and length $s$, the measure in **radians** of the angle $\\theta$ subtended at the center of the circle by an arc with a length $s$ is given by the ration between the length of the arc and the length of the radius.\n",
    "\n",
    "\\begin{equation*}\n",
    "\\theta = \\dfrac{s}{r}\n",
    "\\end{equation*}\n",
    "\n",
    "<img src=\"img/smallWatermelonSide.jpg\" alt=\"drawing\" width=\"500\"/>\n",
    "<img src=\"img/smallWatermelonFront.jpg\" alt=\"drawing\" width=\"500\"/>\n",
    "\n",
    "> One radian is the angle subtended at the center of the circle by an arc with a length equal to the radius of the circle\n",
    ">\n",
    "> (Young and Freedman, University Physics with Modern Physics in SI Units)\n",
    "\n",
    "* A complete revolution corresponds to an angle of $2\\pi$ **radianti**, or $360$ **degrees**.\n",
    "\n",
    "* The measure in radians is related to the measure in degrees through the equation\n",
    "\n",
    "\\begin{equation*}\n",
    "\\dfrac{\\theta_{rad}}{2\\pi} = \\dfrac{\\theta °}{360°}\n",
    "\\end{equation*}\n",
    "\n",
    "from which\n",
    "\n",
    "\\begin{equation*}\n",
    "\\theta ° = \\theta_{rad} \\dfrac{180 °}{\\pi}\n",
    "\\end{equation*}\n",
    "\n",
    "\n",
    "## Calculations with Python\n",
    "### Converting measures from radians to degrees"
   ]
  },
  {
   "cell_type": "code",
   "execution_count": 8,
   "metadata": {},
   "outputs": [
    {
     "name": "stdout",
     "output_type": "stream",
     "text": [
      "\n"
     ]
    },
    {
     "data": {
      "text/markdown": [
       "$\\theta_{rad}$ = 1 **rad**\n"
      ],
      "text/plain": [
       "<IPython.core.display.Markdown object>"
      ]
     },
     "metadata": {},
     "output_type": "display_data"
    },
    {
     "data": {
      "text/markdown": [
       "$\\theta_{deg}$ = 57.29577951308232 **deg**\n"
      ],
      "text/plain": [
       "<IPython.core.display.Markdown object>"
      ]
     },
     "metadata": {},
     "output_type": "display_data"
    },
    {
     "name": "stdout",
     "output_type": "stream",
     "text": [
      "\n"
     ]
    },
    {
     "data": {
      "text/markdown": [
       "\n",
       "Values of the angle measured in radians and corresponding value measured in degrees, with three decimal figures,\n",
       "\n",
       "|&theta; rad |&theta; deg|\n",
       "|-------|-------|\n",
       "|1|57.296| \n"
      ],
      "text/plain": [
       "<IPython.core.display.Markdown object>"
      ]
     },
     "execution_count": 8,
     "metadata": {},
     "output_type": "execute_result"
    }
   ],
   "source": [
    "import numpy as np\n",
    "from IPython.display import display, Markdown\n",
    "\n",
    "theta_rad = 1\n",
    "theta_deg = theta_rad * 180/np.pi\n",
    "\n",
    "print()\n",
    "display(Markdown(r'$\\theta_{rad}$'+' = '+ str(theta_rad) + ' **rad**\\n'))\n",
    "\n",
    "display(Markdown(r'$\\theta_{deg}$'+' = '+ str(theta_deg) + ' **deg**\\n'))\n",
    "print()\n",
    "\n",
    "Markdown(\"\"\"\n",
    "Values of the angle measured in radians and corresponding value measured in degrees, with three decimal figures,\\n\n",
    "|&theta; rad |&theta; deg|\n",
    "|-------|-------|\n",
    "|{one}|{two:0.3f}| \n",
    "\"\"\".format(one = theta_rad, two = theta_deg))\n"
   ]
  },
  {
   "cell_type": "markdown",
   "metadata": {},
   "source": [
    "&nbsp;\n",
    "<hr>\n",
    "\n",
    "> If you want to run the Python code in the **binder** environment online,\n",
    "\n",
    "[![Binder](https://mybinder.org/badge_logo.svg)](https://mybinder.org/v2/gh/POSS-UniMe/simple-physics-with-Python/HEAD)\n",
    "\n",
    "<hr>\n",
    "&nbsp;\n",
    "\n",
    "### Graphical representation"
   ]
  },
  {
   "cell_type": "code",
   "execution_count": 9,
   "metadata": {},
   "outputs": [
    {
     "data": {
      "image/png": "[encoded data removed]",
      "text/plain": [
       "<Figure size 360x360 with 1 Axes>"
      ]
     },
     "metadata": {
      "needs_background": "light"
     },
     "output_type": "display_data"
    }
   ],
   "source": [
    "import numpy as np\n",
    "import matplotlib.pyplot as plt\n",
    "from matplotlib import patches\n",
    "from matplotlib.patches import Wedge\n",
    "\n",
    "xcenter, ycenter = 0., 0.\n",
    "width, height = 2.01, 2.01\n",
    "\n",
    "beta = 1 # radians\n",
    "beta_deg = beta * 180/np.pi\n",
    "\n",
    "fig1 = plt.figure(1, (5,5))\n",
    "arc = patches.Arc((xcenter,ycenter),width,height,angle = 0.0, theta1 = 0.0, theta2 = 360.0, color = 'blue', linewidth = 1.5)\n",
    "ax = fig1.add_subplot(111, aspect='equal')\n",
    "plt.xlim(-1.1, 1.1)\n",
    "plt.ylim(-1.1,1.1)\n",
    "plt.plot(0,0, 'o', markersize = 4, color = 'blue')\n",
    "ax.add_patch(arc)\n",
    "\n",
    "radius = 1\n",
    "wedge = Wedge((xcenter,ycenter),radius, 0, beta_deg)\n",
    "ax.add_patch(wedge)\n",
    "plt.text(0.75,0.75,r'$\\theta$ = {0:0.3f} deg'.format(beta_deg), fontsize='16')\n",
    "plt.axis('off')\n",
    "plt.show()"
   ]
  },
  {
   "cell_type": "markdown",
   "metadata": {},
   "source": [
    "### Get a feel of\n",
    "\n",
    "Given an angle 𝛾 whose value, measured in degrees, is in the range between 0 and 360, calculate the value measured in radians.\n",
    "\n",
    "Draw a circular sector corresponding to the angle chosen above.\n",
    "&nbsp;\n"
   ]
  },
  {
   "cell_type": "code",
   "execution_count": 10,
   "metadata": {},
   "outputs": [
    {
     "name": "stdout",
     "output_type": "stream",
     "text": [
      "\n"
     ]
    },
    {
     "data": {
      "application/vnd.jupyter.widget-view+json": {
       "model_id": "ac93bcb7fa34462ca20a938820fb4582",
       "version_major": 2,
       "version_minor": 0
      },
      "text/plain": [
       "interactive(children=(FloatSlider(value=45.0, continuous_update=False, description='Angle $\\\\gamma$ (°)', max=…"
      ]
     },
     "metadata": {},
     "output_type": "display_data"
    },
    {
     "data": {
      "text/plain": [
       "<function __main__.calculate(gamma)>"
      ]
     },
     "execution_count": 10,
     "metadata": {},
     "output_type": "execute_result"
    }
   ],
   "source": [
    "import ipywidgets as widgets\n",
    "from IPython.display import display, Markdown, HTML\n",
    "\n",
    "style = {'description_width':'initial'}\n",
    "sliderAngle = widgets.FloatSlider(min = 0, max = 360, step = 1, value = 45,\n",
    "                                  description ='Angle '+r'$\\gamma$'+' (°)', style = style, continuous_update=False)\n",
    "print()\n",
    "\n",
    "def calculate(gamma):\n",
    "    gamma_rad = gamma * np.pi/180   # angle (radians)\n",
    "    gamma_over_pi = gamma/180       # angle (fraction of pi radians)\n",
    "    display(HTML('\\n &gamma; = {0:0.3f} <b>rad</b> = {1:0.3f} &pi; <b>rad</b>'.format(gamma_rad, gamma_over_pi)))\n",
    "    makeplot(gamma)\n",
    "\n",
    "def makeplot(gamma):\n",
    "    fig2 = plt.figure(2, (5,5))\n",
    "    arc = patches.Arc((xcenter,ycenter),width,height,angle = 0.0, theta1 = 0.0, theta2 = 360.0, color = 'blue', linewidth = 1.5)\n",
    "    ax = fig2.add_subplot(111, aspect='equal')\n",
    "    plt.xlim(-1.1, 1.1)\n",
    "    plt.ylim(-1.1,1.1)\n",
    "    plt.plot(0,0, 'o', markersize = 4, color = 'blue')\n",
    "    ax.add_patch(arc)\n",
    "    \n",
    "    radius = 1\n",
    "    wedge = Wedge((xcenter,ycenter),radius, 0, gamma)\n",
    "    ax.add_patch(wedge)\n",
    "    plt.text(0.75,0.75,r'$\\theta$ = {0:0.3f} deg'.format(gamma), fontsize='16')\n",
    "    plt.axis('off')\n",
    "    plt.show()\n",
    " \n",
    "widgets.interact(calculate, gamma = sliderAngle)\n",
    "\n",
    "\n",
    "\n"
   ]
  },
  {
   "cell_type": "markdown",
   "metadata": {},
   "source": [
    "## What we have learned\n",
    "*Physics - Mathematics*\n",
    "* Measure angles in radians\n",
    "* Use a watermelon to study the angles\n",
    "* Conversion between different units: radians &hArr; degrees\n",
    "\n",
    "*Python*\n",
    "* Obtain a graphical representation of a circular sector and of an arc of circumference\n",
    "* Write a Python code for displaying formatted output in Markdown of HTML\n",
    "* Resize images"
   ]
  },
  {
   "cell_type": "markdown",
   "metadata": {},
   "source": [
    "## References and notes"
   ]
  },
  {
   "cell_type": "markdown",
   "metadata": {},
   "source": [
    "#### Drawing arcs and circles with Matplotlib\n",
    "* 1.[How to draw an arc of a circle](https://matplotlib.org/3.1.1/api/_as_gen/matplotlib.patches.Arc.html)\n",
    "\n",
    "* 2.[Matplotlib documentation on Arc](https://matplotlib.org/3.1.1/api/_as_gen/matplotlib.patches.Arc.html)\n",
    "\n",
    "* 3.[Example: patches, Arc](https://matplotlib.org/3.1.1/gallery/units/ellipse_with_units.html#sphx-glr-gallery-units-ellipse-with-units-py)\n",
    "\n",
    "* 4.[Example: Wedges](https://matplotlib.org/gallery/shapes_and_collections/patch_collection.html#sphx-glr-gallery-shapes-and-collections-patch-collection-py) (How to draw a full sector)\n",
    "\n",
    "\n",
    "\n",
    "#### Angles\n",
    "Young, Hugh, D. and Roger A. Freedman. University Physics with Modern Physics, eBook, Global Edition. Available from: VitalSource Bookshelf, (15th Edition). Pearson International Content, 2019.\n",
    "\n",
    "&nbsp;\n",
    "\n",
    "\n",
    "### Copyright and License\n",
    "--------------------------\n",
    "(c) 2021 Andrea Mandanici, Giuseppe Mandaglio, Giovanni Pirrotta. All content is under Creative Common Attribution  <a rel=\"license\" href=\"https://creativecommons.org/licenses/by/4.0\">CC BY 4.0</a> \n",
    " and all code is under [BSD 3-Clause License](https://opensource.org/licenses/BSD-3-Clause). Notebook based on the [Italian version](https://github.com/POSS-UniMe/simple-physics-with-Python-ITA) (c) 2020 Andrea Mandanici, Marco Guarnera, Giuseppe Mandaglio, Giovanni Pirrotta. All content is under Creative Common Attribution  <a rel=\"license\" href=\"https://creativecommons.org/licenses/by/4.0\" > CC BY 4.0 <a/> \n",
    " and all code is under [BSD 3-Clause License](https://opensource.org/licenses/BSD-3-Clause)\n"
   ]
  },
  {
   "cell_type": "code",
   "execution_count": null,
   "metadata": {},
   "outputs": [],
   "source": []
  }
 ],
 "metadata": {
  "kernelspec": {
   "display_name": "Python 3",
   "language": "python",
   "name": "python3"
  },
  "language_info": {
   "codemirror_mode": {
    "name": "ipython",
    "version": 3
   },
   "file_extension": ".py",
   "mimetype": "text/x-python",
   "name": "python",
   "nbconvert_exporter": "python",
   "pygments_lexer": "ipython3",
   "version": "3.7.4"
  }
 },
 "nbformat": 4,
 "nbformat_minor": 2
}
