{
 "cells": [
  {
   "cell_type": "markdown",
   "metadata": {},
   "source": [
    "# Trigonometric functions\n",
    "\n",
    "Given an angle $\\theta$ whose value, measured in degrees is in the range between 0 and 360, calculate the value fo the **cosine** function and of the **sine** function.\n",
    "\n",
    "<img src=\"img/compass.jpg\" alt=\"drawing\" width=\"400\"/>\n",
    "\n",
    "Draw a circular section corresponding to the angle chosen above and show the geometric equivalent of the cosine and of the sine, drawing the suitable projections on the picture.\n",
    "\n",
    "\n",
    "## Discussion\n",
    "The **cosine** and **sine** trigonometric functions are available as functions of the **numpy** module in Python. These functions are supposed to work on a variable measured in **radians**.\n",
    "\n",
    "Given the value of the angle $\\theta$ measured in degrees,\n",
    "* we convert the value to radians using the relation\n",
    "\\begin{equation*}\n",
    "    \\theta_{rad} = \\theta ° \\dfrac{\\pi}{180 °}\n",
    "\\end{equation*}\n",
    "\n",
    "* and we use the functions **np.cos()** and **np.sin()** of the **numpy** module\n",
    "    \n",
    "\n",
    "Using the **matplotlib** module we can draw a plot that shows a circular section corresponding to the chosen angle and which represents geometrically the result obtained applying the cosine and the sine function.\n",
    "\n",
    "\n",
    "## Calculations in Python\n"
   ]
  },
  {
   "cell_type": "code",
   "execution_count": 2,
   "metadata": {},
   "outputs": [
    {
     "name": "stdout",
     "output_type": "stream",
     "text": [
      "\n"
     ]
    },
    {
     "data": {
      "application/vnd.jupyter.widget-view+json": {
       "model_id": "6e085c274a07482da402a5913caceb8c",
       "version_major": 2,
       "version_minor": 0
      },
      "text/plain": [
       "interactive(children=(FloatSlider(value=45.0, continuous_update=False, description='Angle $\\\\theta$ (°)', max=…"
      ]
     },
     "metadata": {},
     "output_type": "display_data"
    },
    {
     "data": {
      "text/plain": [
       "<function __main__.calculate(theta)>"
      ]
     },
     "execution_count": 2,
     "metadata": {},
     "output_type": "execute_result"
    }
   ],
   "source": [
    "import numpy as np\n",
    "import ipywidgets as widgets\n",
    "from IPython.display import display, Markdown\n",
    "import matplotlib.pyplot as plt\n",
    "from matplotlib import patches\n",
    "from matplotlib.patches import Wedge\n",
    "\n",
    "xcenter, ycenter = 0., 0.\n",
    "width, height = 2.01, 2.01\n",
    "radius = 1\n",
    "\n",
    "style = {'description_width':'initial'}\n",
    "sliderAngle = widgets.FloatSlider(min = 0, max = 360, step = 1, value = 45,\n",
    "                                  description ='Angle '+r'$\\theta$'+' (°)', style = style, continuous_update=False)\n",
    "print()\n",
    "\n",
    "def calculate(theta):\n",
    "    theta_rad = theta * np.pi/180   # angle (radians)\n",
    "    theta_over_pi = theta/180       # angle (fraction of pi radians)\n",
    "    # display the results in Markdown\n",
    "    display(Markdown('\\n &theta; = {0:0.5f} <b>rad</b> = {1:0.5f} &pi; <b>rad</b><br>'.format(theta_rad, theta_over_pi)))\n",
    "    # draw a plot\n",
    "    makeplot(theta)\n",
    "\n",
    "def makeplot(theta):\n",
    "    fig2 = plt.figure(2, (8,8))\n",
    "    theta_rad = theta * np.pi/180   # angle (radians)\n",
    "    xp, yp = np.cos(theta_rad), np.sin(theta_rad)   \n",
    "    # Draw an arc corresponding to the angle theta\n",
    "    arc = patches.Arc((xcenter,ycenter),width,height,angle = 0.0, theta1 = 0.0, theta2 = theta, color = 'blue', linewidth = 3)\n",
    "    # Draw a circle having radius = 1\n",
    "    circle = patches.Arc((xcenter,ycenter),width,height,angle = 0.0, theta1 = 0.0, theta2 = 360, color = 'green', linewidth = 1)\n",
    "    # Draw a smaller arc corresponding to the angle theta\n",
    "    smaller_arc = patches.Arc((xcenter,ycenter),width/7,height/7,angle = 0.0, theta1 = 0.0, theta2 = theta, color = 'blue', linewidth = 0.8)\n",
    "    # Same units and same scales for the two axes of the plot\n",
    "    ax = fig2.add_subplot(111, aspect='equal')\n",
    "    plt.xlim(-1.4, 1.4)\n",
    "    plt.ylim(-1.4,1.4)\n",
    "    #plt.plot(0,0, 'o', markersize = 4, color = 'blue')\n",
    "    #plt.plot(xp,yp, 'o', ms = 4, color = 'blue')\n",
    "    plt.plot([0, xp],[0,yp], 'o--', ms =4, color = 'blue')\n",
    "    ax.add_patch(arc)\n",
    "    ax.add_patch(circle)\n",
    "    ax.add_patch(smaller_arc)\n",
    "    #plt.axhline(0)\n",
    "    #plt.axvline(0)\n",
    "    plt.plot([xp,xp],[0,yp],'k:.')   # drop a line from the point P down to the x-axis\n",
    "    plt.plot([0,xp],[yp,yp],'k:.')   # draw an horizontal line from the point P to the y-axis\n",
    "    #radius = 1\n",
    "    \n",
    "    # Draw a circular sector corresponding to the angle theta\n",
    "    wedge = Wedge((xcenter,ycenter),radius, 0, theta, alpha = 0.3)\n",
    "    ax.add_patch(wedge)\n",
    "    #\n",
    "    # Write labels on the plot\n",
    "    #\n",
    "    details = 'x = {0:0.5f} \\ny = {1:0.5f}'.format(xp,yp)\n",
    "    plt.text(1,1,r'$\\theta$ = {0:0.2f} deg'.format(theta),\n",
    "             fontsize='16', verticalalignment='bottom',\n",
    "             horizontalalignment='left', bbox=dict(boxstyle='round', facecolor='magenta', edgecolor='red',\n",
    "                                                  linewidth=2, alpha = 0.2))\n",
    "    plt.text(1.2, 0.70, r'$P\\equiv(x,y)$', fontsize = 16, horizontalalignment = 'left' )\n",
    "    plt.text(1.3,0.50, r'$x\\rightarrow \\cos(\\theta)$', fontsize = 16, horizontalalignment = 'left')\n",
    "    plt.text(1.3,0.35, r'$y\\rightarrow \\sin(\\theta)$', fontsize = 16, horizontalalignment = 'left')\n",
    "    plt.text(1.3, 0.15, 'radius = 1', fontsize = 16, horizontalalignment = 'left')\n",
    "    plt.text(1.1,-0.5, details, horizontalalignment='left',\n",
    "             verticalalignment='top', fontsize='16', \n",
    "             bbox=dict(boxstyle='round',facecolor='yellow',edgecolor = 'red',\n",
    "                       linewidth=2, alpha=0.2))\n",
    "    plt.text(xp*1.01,yp*1.01,r'$P$', horizontalalignment = 'left', verticalalignment = 'bottom', fontsize = '14')\n",
    "    ax.annotate(r'$\\theta$',(0.25*np.cos(theta_rad/2),0.25*np.sin(theta_rad/2)), fontsize = 16, verticalalignment = 'center')\n",
    "    #\n",
    "    # Some lines of Python code from\n",
    "    #\n",
    "    # https://matplotlib.org/3.3.1/gallery/recipes/centered_spines_with_arrows.html\n",
    "    #\n",
    "    # Move the left and bottom spines to x = 0 and y = 0, respectively.\n",
    "    ax.spines['bottom'].set_position(('data',0))\n",
    "    ax.spines['left'].set_position(('data',0,))\n",
    "    # Hide the top and right spines.\n",
    "    ax.spines['top'].set_visible(False)\n",
    "    ax.spines['right'].set_visible(False)\n",
    "    # Draw arrows (as black triangles: \">k\"/\"^k\") at the end of the axes.  In each\n",
    "    # case, one of the coordinates (0) is a data coordinate (i.e., y = 0 or x = 0,\n",
    "    # respectively) and the other one (1) is an axes coordinate (i.e., at the very\n",
    "    # right/top of the axes).  Also, disable clipping (clip_on=False) as the marker\n",
    "    # actually spills out of the axes.\n",
    "    ax.plot(1, 0, \">k\", transform=ax.get_yaxis_transform(), clip_on=False)\n",
    "    ax.plot(0, 1, \"^k\", transform=ax.get_xaxis_transform(), clip_on=False)\n",
    "    #\n",
    "    ########\n",
    "    ax.annotate(r'$x$',(1.4,0), fontsize = 16, verticalalignment = 'top', horizontalalignment='left')\n",
    "    ax.annotate(r'$y$',(0, 1.4), fontsize = 16, ha = 'right')\n",
    "    plt.show()\n",
    " \n",
    "widgets.interact(calculate, theta = sliderAngle)\n",
    "\n",
    "\n",
    "\n"
   ]
  },
  {
   "cell_type": "markdown",
   "metadata": {},
   "source": [
    "&nbsp;\n",
    "<hr>\n",
    "\n",
    "> If you want to run the Python code in the **binder** environment online,\n",
    "\n",
    "[![Binder](https://mybinder.org/badge_logo.svg)](https://mybinder.org/v2/gh/POSS-UniMe/simple-physics-with-Python/HEAD)\n",
    "\n",
    "<hr>\n",
    "&nbsp;"
   ]
  },
  {
   "cell_type": "markdown",
   "metadata": {},
   "source": [
    "## What we have learned\n",
    "*Physics - Mathematics*\n",
    "* Cosine function\n",
    "* Sine function\n",
    "\n",
    "*Python*\n",
    "* Produce representative plots and control them with adjustable widgets."
   ]
  },
  {
   "cell_type": "markdown",
   "metadata": {},
   "source": [
    "## References and notes"
   ]
  },
  {
   "cell_type": "markdown",
   "metadata": {},
   "source": [
    "#### Drawing arcs and circles\n",
    "* 1.[How to draw an arc of a circle](https://matplotlib.org/stable/api/_as_gen/matplotlib.patches.Arc.html)\n",
    "\n",
    "* 2.[Matplotlib documentation on: spines](https://matplotlib.org/3.3.1/gallery/recipes/centered_spines_with_arrows.html)\n",
    "\n",
    "* 3.[Example: patches, Arc](https://matplotlib.org/stable/gallery/units/ellipse_with_units.html)\n",
    "\n",
    "* 4.[Example: Wedges](https://matplotlib.org/gallery/shapes_and_collections/patch_collection.html#sphx-glr-gallery-shapes-and-collections-patch-collection-py) (How to draw a full sector)\n",
    "\n",
    "#### Drawing vertical and horizontal lines\n",
    "* How to draw vertical lines to the *x* axis using the **stem** function [5.](https://matplotlib.org/api/pyplot_api.html?highlight=matplotlib%20pyplot%20stem#matplotlib.pyplot.stem) [6.](https://www.mathworks.com/help/matlab/ref/stem.html;jsessionid=601f32f11e85fefdc0abec8f1ae9)\n",
    "\n",
    "* How to plot horizontal and vertical lines to the axes [7.](https://stackoverflow.com/questions/46599171/dashed-lines-from-points-to-axes-in-matplotlib) [8.](https://matplotlib.org/3.1.1/api/_as_gen/matplotlib.pyplot.hlines.html)\n",
    "\n",
    "* 9.[How to draw vertical and horizontal lines](https://likegeeks.com/matplotlib-tutorial/)\n",
    "\n",
    "#### Drawing axes\n",
    "* 10.[How to draw additional axes with spines](http://www.ifac.cnr.it/~zoppetti/corsopython/files/pdf/15%20-%20Matplotlib%20-%20Grafici%20singoli.pdf)\n",
    "\n",
    "* 11.[Adjusting the location and appearance of axis spines](https://matplotlib.org/3.3.1/gallery/ticks_and_spines/spine_placement_demo.html)\n",
    "\n",
    "* 12.[Centered spines with arrows](https://matplotlib.org/3.3.1/gallery/recipes/centered_spines_with_arrows.html)\n",
    "\n",
    "* 13.[Axis styles and grids](https://cxc.harvard.edu/chips/gallery/axes.html)\n",
    "\n",
    "#### Ticks\n",
    "* 14.[Ticks, tick labels, and grid lines](https://docs.astropy.org/en/stable/visualization/wcsaxes/ticks_labels_grid.html)\n",
    "\n",
    "* 15.[Major and minor ticks](https://matplotlib.org/3.3.1/gallery/ticks_and_spines/major_minor_demo.html)\n",
    "\n",
    "\n",
    "&nbsp;\n",
    "\n",
    "### Copyright and License\n",
    "--------------------------\n",
    "(c) 2021 Andrea Mandanici, Giuseppe Mandaglio, Giovanni Pirrotta. All content is under Creative Common Attribution CC BY 4.0 and all code is under BSD 3-Clause License. Notebook based on the Italian version (c) 2020 Andrea Mandanici, Marco Guarnera, Giuseppe Mandaglio, Giovanni Pirrotta. All content is under Creative Common Attribution  <a rel=\"license\" href=\"https://creativecommons.org/licenses/by/4.0\" > CC BY 4.0 <a/> \n",
    " and all code is under [BSD 3-Clause License](https://opensource.org/licenses/BSD-3-Clause)"
   ]
  },
  {
   "cell_type": "code",
   "execution_count": null,
   "metadata": {},
   "outputs": [],
   "source": []
  }
 ],
 "metadata": {
  "kernelspec": {
   "display_name": "Python 3",
   "language": "python",
   "name": "python3"
  },
  "language_info": {
   "codemirror_mode": {
    "name": "ipython",
    "version": 3
   },
   "file_extension": ".py",
   "mimetype": "text/x-python",
   "name": "python",
   "nbconvert_exporter": "python",
   "pygments_lexer": "ipython3",
   "version": "3.7.4"
  }
 },
 "nbformat": 4,
 "nbformat_minor": 2
}
