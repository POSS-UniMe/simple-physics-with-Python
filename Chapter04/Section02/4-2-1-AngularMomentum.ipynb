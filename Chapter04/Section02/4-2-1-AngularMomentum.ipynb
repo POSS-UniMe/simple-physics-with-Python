{
 "cells": [
  {
   "cell_type": "markdown",
   "metadata": {},
   "source": [
    "# Angular momentum"
   ]
  },
  {
   "cell_type": "markdown",
   "metadata": {},
   "source": [
    "### What is the angular momentum ?\n",
    "\n",
    "- A particle having mass $m$ is moving in the space. We consider it as a point-like body.\n",
    "\n",
    "- At the time $t$ the particle is in a position $P$ and it has velocity $\\vec{v}$.\n",
    "\n",
    "- An observer placed in a position $O$ looks at the motion of the particle.\n",
    "\n",
    "![](img/MovingParticle.png) Figure 1\n"
   ]
  },
  {
   "cell_type": "markdown",
   "metadata": {},
   "source": [
    "- We choose the plane that contains the point $O$ and the vector $\\vec{v}$\n",
    "\n",
    "![](img/ParticleAndPlane.png) Figure 2"
   ]
  },
  {
   "cell_type": "markdown",
   "metadata": {},
   "source": [
    "> Now in this plane the observer sees the particle\n",
    "* rotating around it (rotational motion)\n",
    "* moving closer or moving away (radial motion)\n",
    "\n",
    "![](img/VelocityComponents.png)Figure 3"
   ]
  },
  {
   "cell_type": "markdown",
   "metadata": {},
   "source": [
    "* The velocity vector can be decomposed it its two components:\n",
    "    * one along the radial direction, i.e. along an axis oriented from $O$ towards $P$\n",
    "    * one along another axis, which lies on the same plane and is perpendicular to the previous axis. The axis is oriented in the direction of the motion.\n",
    "    \n",
    "    ![](img/AxesForDecomposition.png)Figure 4"
   ]
  },
  {
   "cell_type": "markdown",
   "metadata": {},
   "source": [
    "> If we consider a circle centered in $O$ and passing through point $P$, one axis is directed as the radius $OP$, and the other axis is tangent to the circle in $P$.\n",
    "* So we want to obtain the **radial component** and the **tangential component** of the velocity vector."
   ]
  },
  {
   "cell_type": "markdown",
   "metadata": {},
   "source": [
    "* If we are the observer, placed in position $O$, and we are looking at the particle in position $P$, we see that the velocity vector $\\vec{v}$ forms an angle $\\theta$ with the radial direction $OP$.\n",
    "\n",
    "![](img/AngleTheta.png) Figure 5\n",
    "\n",
    "> The magnitude of the tangential component of the velocity vector is $$ v \\sin{\\theta} $$"
   ]
  },
  {
   "cell_type": "markdown",
   "metadata": {},
   "source": [
    "* Now,\n",
    ">> to what extent the motion of the particle is seen as a rotational motion around point $O$ ?"
   ]
  },
  {
   "cell_type": "markdown",
   "metadata": {},
   "source": [
    "* If a particle is moving around a circle, we can characterize its motion considering\n",
    "    * the radius of the circle\n",
    "    * the speed of the particle\n",
    "* Moreover, we can add more information about the system, if we also consider the mass of the particle\n",
    "> Similarly, when we know the velocity $\\vec{v}$ of a particle, we gain more information introducing the **linear momentum** $$ \\vec{p} = m \\vec{v} $$"
   ]
  },
  {
   "cell_type": "markdown",
   "metadata": {},
   "source": [
    "The **angular momentum** of a particle with respect to a point $O$ has magnitude\n",
    "\n",
    "$$ L = r m v \\sin{\\theta} $$"
   ]
  },
  {
   "cell_type": "markdown",
   "metadata": {},
   "source": [
    "In this expression we recognize:\n",
    "* the distance $r$ between the observer $O$ and the particle, or the radius of rotation of the particle around the observer;\n",
    "* the tangential component $v\\sin{\\theta}$ of the velocity vector, i.e. the speed at which the particle rotates around the observer;\n",
    "* the mass $m$ of the particle."
   ]
  },
  {
   "cell_type": "markdown",
   "metadata": {},
   "source": [
    "However, the angular momentum is described as a **vector**\n",
    "* perpendicular to the plane containing the velocity vector $\\vec{v}$ and the point $O$\n",
    "* oriented so that the rotation of the particle with respect to point $O$ is seen as counterclowise"
   ]
  },
  {
   "cell_type": "markdown",
   "metadata": {},
   "source": [
    "We can describe such a vector using the concept of cross product between two vectors. In fact,\n",
    "\n",
    "$$  \\vec{L} = \\vec{r} \\times {m \\vec{v}} $$\n",
    "\n",
    "![](img/VectorAngularMomentum.png) Figure 6\n"
   ]
  },
  {
   "cell_type": "markdown",
   "metadata": {},
   "source": [
    "&nbsp;\n",
    "## References and notes\n",
    "\n",
    "#### Images\n",
    "All the images are obtained using Python scripts and saved as png files.\n",
    "\n",
    "[Figure 1.](scripts/MovingParticle.ipynb) Particle moving with instantaneous velocity $\\vec{v}$\n",
    "\n",
    "[Figure 2.](scripts/ParticleAndPlane.ipynb) The plane that contains the point $O$ and the vector $\\vec{v}$\n",
    "\n",
    "[Figure 3.](scripts/VelocityComponents.ipynb) Tangential and radial components of the velocity vector.\n",
    "\n",
    "[Figure 4.](scripts/AxesForDecomposition.ipynb) The two axes chosen for obtaining the two components of the velocity vector.\n",
    "\n",
    "[Figure 5.](scripts/AngleTheta.ipynb) The angle $\\theta$ that the velocity vector $\\vec{v}$ forms with the radial direction $OP$.\n",
    "\n",
    "[Figure 6.](scripts/VectorAngularMomentum.ipynb) The angular momentum obtained as cross product between two vectors: \n",
    "   * the vector $\\vec{r}$ giving the position of the particle $P$ with respect to the observer $O$, and\n",
    "   * the linear momentum $\\vec{p} = m \\vec{v}$"
   ]
  },
  {
   "cell_type": "markdown",
   "metadata": {},
   "source": [
    "&nbsp;\n",
    "\n",
    "### Copyright and License\n",
    "--------------------------\n",
    "(c) 2021 Andrea Mandanici, Giuseppe Mandaglio, Giovanni Pirrotta, Valeria Conti Nibali, Giacomo Fiumara. All content is under Creative Common Attribution  <a rel=\"license\" href=\"https://creativecommons.org/licenses/by/4.0\"> CC BY 4.0 </a> \n",
    " and all code is under [BSD 3-Clause License](https://opensource.org/licenses/BSD-3-Clause)."
   ]
  },
  {
   "cell_type": "code",
   "execution_count": null,
   "metadata": {},
   "outputs": [],
   "source": []
  }
 ],
 "metadata": {
  "kernelspec": {
   "display_name": "Python 3",
   "language": "python",
   "name": "python3"
  },
  "language_info": {
   "codemirror_mode": {
    "name": "ipython",
    "version": 3
   },
   "file_extension": ".py",
   "mimetype": "text/x-python",
   "name": "python",
   "nbconvert_exporter": "python",
   "pygments_lexer": "ipython3",
   "version": "3.7.4"
  }
 },
 "nbformat": 4,
 "nbformat_minor": 2
}
