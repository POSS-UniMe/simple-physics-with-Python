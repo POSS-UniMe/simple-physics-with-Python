{
 "cells": [
  {
   "cell_type": "markdown",
   "metadata": {},
   "source": [
    "# Oscillations and sound\n",
    "\n",
    "### Experiments"
   ]
  },
  {
   "cell_type": "markdown",
   "metadata": {},
   "source": [
    "The oscillations of a body can generate sound waves in air. This is the case of musical instruments, but is also the case of other objects, as we can see in the following experiment."
   ]
  },
  {
   "cell_type": "code",
   "execution_count": 1,
   "metadata": {},
   "outputs": [
    {
     "data": {
      "text/html": [
       "<video src=\"./video/KostaBoda.mp4\" controls  width=\"600\" >\n",
       "      Your browser does not support the <code>video</code> element.\n",
       "    </video>"
      ],
      "text/plain": [
       "<IPython.core.display.Video object>"
      ]
     },
     "execution_count": 1,
     "metadata": {},
     "output_type": "execute_result"
    }
   ],
   "source": [
    "from IPython.display import Video\n",
    "Video('./video/KostaBoda.mp4', width = 600)"
   ]
  },
  {
   "cell_type": "markdown",
   "metadata": {},
   "source": [
    "The sound produced depends on the characteristics of the body, which behaves as the source of mechanical waves."
   ]
  },
  {
   "cell_type": "code",
   "execution_count": 2,
   "metadata": {},
   "outputs": [
    {
     "data": {
      "text/html": [
       "<video src=\"./video/Kristall.mp4\" controls  width=\"600\" >\n",
       "      Your browser does not support the <code>video</code> element.\n",
       "    </video>"
      ],
      "text/plain": [
       "<IPython.core.display.Video object>"
      ]
     },
     "execution_count": 2,
     "metadata": {},
     "output_type": "execute_result"
    }
   ],
   "source": [
    "from IPython.display import Video\n",
    "Video('./video/Kristall.mp4', width = 600)"
   ]
  },
  {
   "cell_type": "markdown",
   "metadata": {},
   "source": [
    "### Analysis\n",
    "\n",
    "Now we can analyze the sound. To this aim we can use the Audacity app.\n",
    "\n",
    "<a href=\"https://www.audacityteam.org/\">\n",
    "<img src=\"./img/audacity_logo.png\" alt=\"audacity_logo\" width=\"100\"/> \n",
    "</a>\n",
    "\n",
    "We can import the file and look at the signal that has been recorded. The audio wave forces the membrane of the microphone to vibrate. The microphone acts as a **transducer**, generating a time dependent voltage that is proportional to the displacement of the membrane.\n",
    "\n",
    "<img src=\"./img/sound001.png\" alt=\"drawing\" width=\"800\"/>"
   ]
  },
  {
   "cell_type": "markdown",
   "metadata": {},
   "source": [
    "Looking in greater detail, we observe a kind of complex fluctuation. \n",
    "\n",
    "For comparison we show it in the figure here below, along with a pure sinusoidal function.\n",
    "\n",
    "<img src=\"./img/Sound001_detail.png\" alt=\"drawing\" width=\"800\"/>"
   ]
  },
  {
   "cell_type": "markdown",
   "metadata": {},
   "source": [
    "We can describe the recorded sound as a superposition of different sinusoidal functions, applying the **Fourier analyis**.\n",
    "\n",
    "<img src=\"./img/Spectrum_sound001.png\" alt=\"drawing\" width=\"500\"/>\n"
   ]
  },
  {
   "cell_type": "markdown",
   "metadata": {},
   "source": [
    "This plots represents the amplitude of the sinusoidal functions at different frequencies, whose sum will better describe the given signal.\n",
    "\n",
    "We can observe that the sound has an intense component at about 823 Hz, and other components at 342 Hz, and 1440 Hz, respectively."
   ]
  },
  {
   "cell_type": "markdown",
   "metadata": {},
   "source": [
    "### A surprising effect\n",
    "\n",
    "#### <span style=\"color:blue\"> Resonance </span>\n",
    "\n",
    "Now we can use te Audacity App to generate a continuous wave at 823 Hz, and play this sound close to the object that we have considered above. Suppose that we play the sound for 3 seconds\n",
    "\n",
    "* When the sound at 823 Hz is turned off **we can still ear a weak sound at the same pitch, coming from the object**\n",
    "    * What is going on?\n",
    "    \n",
    " > We have put the object in oscillation. The sound wave makes the object vibrate at this particular frequency, that is a frequency at which that body **can** oscillate. Once the body oscillates, it can itself generate a sound wave at that frequency, since it can transfer its motion to the air molecules near to its walls."
   ]
  },
  {
   "cell_type": "markdown",
   "metadata": {},
   "source": [
    "&nbsp;\n",
    "\n",
    "### Copyright and License\n",
    "--------------------------\n",
    "(c) 2021 Andrea Mandanici, Giuseppe Mandaglio, Giovanni Pirrotta, Valeria Conti Nibali, Giacomo Fiumara. All content is under Creative Common Attribution  <a rel=\"license\" href=\"https://creativecommons.org/licenses/by/4.0\"> CC BY 4.0 </a> \n",
    " and all code is under [BSD 3-Clause License](https://opensource.org/licenses/BSD-3-Clause)."
   ]
  },
  {
   "cell_type": "code",
   "execution_count": null,
   "metadata": {},
   "outputs": [],
   "source": []
  }
 ],
 "metadata": {
  "kernelspec": {
   "display_name": "Python 3",
   "language": "python",
   "name": "python3"
  },
  "language_info": {
   "codemirror_mode": {
    "name": "ipython",
    "version": 3
   },
   "file_extension": ".py",
   "mimetype": "text/x-python",
   "name": "python",
   "nbconvert_exporter": "python",
   "pygments_lexer": "ipython3",
   "version": "3.7.4"
  }
 },
 "nbformat": 4,
 "nbformat_minor": 2
}
