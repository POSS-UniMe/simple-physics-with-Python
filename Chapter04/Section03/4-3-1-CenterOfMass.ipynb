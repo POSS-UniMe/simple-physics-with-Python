{
 "cells": [
  {
   "cell_type": "markdown",
   "metadata": {},
   "source": [
    "# Where is the Center of Mass ?\n",
    "\n",
    "How to calculate the **center of mass** of a system of *point-like* bodies\n",
    "\n",
    "&nbsp;"
   ]
  },
  {
   "cell_type": "markdown",
   "metadata": {},
   "source": [
    "![](masses.jpg)"
   ]
  },
  {
   "cell_type": "markdown",
   "metadata": {},
   "source": [
    "### Discussion of the problem\n",
    "\n",
    "We assume to have a set of point-like bodies. Given their masses and their Cartesian coordinates, we want to evaluate the position of the **center of mass** of the system.\n",
    "\n",
    "We also like to obtain a suitable *graphical representation* for this problem."
   ]
  },
  {
   "cell_type": "markdown",
   "metadata": {},
   "source": [
    "### Implementation in Python\n",
    "\n",
    "#### Modules\n",
    "\n",
    "We need the **numpy** module for calculations and the **matplotlib** module for producing plots."
   ]
  },
  {
   "cell_type": "code",
   "execution_count": 78,
   "metadata": {},
   "outputs": [],
   "source": [
    "import numpy as np\n",
    "import matplotlib.pyplot as plt"
   ]
  },
  {
   "cell_type": "markdown",
   "metadata": {},
   "source": [
    "#### Given quantities\n",
    "\n",
    "Next, we assign the value of the **mass**, and the **coordinates** of each point-like body.\n",
    "\n",
    "* It is important to give the values of all the masses with the same measurement unit, \n",
    "and the value of all the coordinates with the same measurement unit. \n",
    "* The coordinates of the center of mass will have the same measurement unit as the individual coordinates."
   ]
  },
  {
   "cell_type": "code",
   "execution_count": 79,
   "metadata": {},
   "outputs": [],
   "source": [
    "mass = [2 , 0.2, 0.2]     #  mass 0, mass 1, mass 2, ...\n",
    "\n",
    "x = [0, -3, 3]            #      x0,     x1,     x2, ... \n",
    "\n",
    "y = [0, 3, 3]             #      y0,     y1,     y2, ... \n"
   ]
  },
  {
   "cell_type": "markdown",
   "metadata": {},
   "source": [
    "#### Equations\n",
    "\n",
    "By definition, the coordinates of the center of mass are given by the following equations\n",
    "\n",
    "$$ x_{c.m.} = \\dfrac{\\sum_i{x_i m_i}}{\\sum_i{m_i}} $$ \n",
    "\n",
    "$$ y_{c.m.} = \\dfrac{\\sum_i{y_i m_i}}{\\sum_i{m_i}} $$"
   ]
  },
  {
   "cell_type": "markdown",
   "metadata": {},
   "source": [
    "#### Calculations and printout\n",
    "\n",
    "In Python the calculation of $\\sum_i{m_i}$ can be carried out using the function **sum()**, a built-in function which sums up the numbers in the list.\n",
    "\n",
    "The calculation of $\\sum_i{x_i m_i}$ can be performed using the **dot()** function of the **numpy** module, which operates the **dot product** of two arrays."
   ]
  },
  {
   "cell_type": "code",
   "execution_count": 80,
   "metadata": {},
   "outputs": [
    {
     "name": "stdout",
     "output_type": "stream",
     "text": [
      "\n",
      " x c.m. =  0.0 \n",
      " y c.m. =  0.5\n",
      "\n"
     ]
    }
   ],
   "source": [
    "# coordinates of the center of mass\n",
    "xcm = np.dot(x, mass) / sum(mass)\n",
    "ycm = np.dot(y, mass) / sum(mass)\n",
    "# \n",
    "print('\\n x c.m. = ', xcm, '\\n y c.m. = ', ycm)\n",
    "print()"
   ]
  },
  {
   "cell_type": "markdown",
   "metadata": {},
   "source": [
    "#### Thinking about the graphical representation\n",
    "\n",
    "We want to represent the objects using symbols whose size is representative of the mass. To this aim we will make some simple assumptions:\n",
    "\n",
    "* we assume spherical objects\n",
    "* we assume that they have the same density\n",
    "\n",
    "> Density  $$ \\rho = \\dfrac{m}{V} $$\n",
    "\n",
    "For a sphere, $$ V = \\dfrac{4}{3}\\pi R^3 $$\n",
    "\n",
    "The mass, $m$, can be evaluated as $$ m = \\rho V = \\rho \\dfrac{4}{3}\\pi R^3 $$\n",
    "\n",
    "As a consequence, we have $$ m \\propto R^3 $$ and $$ R \\propto m^{\\frac{1}{3}}$$ "
   ]
  },
  {
   "cell_type": "markdown",
   "metadata": {},
   "source": [
    "Based on this observation, we will choose the size of the symbol as quantity proportional to $$ m ^{\\frac{1}{3}}$$ "
   ]
  },
  {
   "cell_type": "markdown",
   "metadata": {},
   "source": [
    "##### Practical aspects\n",
    "\n",
    "* We assign the maximum size of the symbol and we associate such size to the point that, in the graph, will represent the body with the larger mass among the bodies considered.\n",
    "* All the other sizes will be normalized to this maximum size."
   ]
  },
  {
   "cell_type": "code",
   "execution_count": 81,
   "metadata": {},
   "outputs": [
    {
     "name": "stdout",
     "output_type": "stream",
     "text": [
      "mass of the bodies \n",
      " [2.  0.2 0.2]\n",
      "\n",
      "max. mass =  2.0\n",
      "\n",
      "size of the representative points\n",
      " [256.         118.82467414 118.82467414]\n"
     ]
    }
   ],
   "source": [
    "\n",
    "masses = np.array(mass)   # convert the list in a numpy array\n",
    "\n",
    "print('mass of the bodies \\n', masses)\n",
    "print()\n",
    "print('max. mass = ', masses.max())\n",
    "print()\n",
    " \n",
    "maxmass = masses.max()     # find the maximum mass\n",
    "maxsize = 256               # set the maximum size of the symbol\n",
    "\n",
    "mysize = maxsize*(masses/maxmass)**(1/3)    \n",
    "# this computes the symbol size according to the mass\n",
    "\n",
    "print('size of the representative points\\n', mysize)"
   ]
  },
  {
   "cell_type": "markdown",
   "metadata": {},
   "source": [
    "#### Producing the plot\n",
    "For a realistic representation we need to adopt the same scale on the two Cartesian axes. This is done using the **set_aspect()** function."
   ]
  },
  {
   "cell_type": "code",
   "execution_count": 82,
   "metadata": {},
   "outputs": [
    {
     "name": "stdout",
     "output_type": "stream",
     "text": [
      "\n",
      " x c.m. =  0.0 \n",
      " y c.m. =  0.5\n",
      "\n"
     ]
    },
    {
     "data": {
      "image/png": "[encoded data removed]",
      "text/plain": [
       "<Figure size 432x288 with 1 Axes>"
      ]
     },
     "metadata": {
      "needs_background": "light"
     },
     "output_type": "display_data"
    }
   ],
   "source": [
    "fig, ax1 = plt.subplots(1,1)\n",
    "ax1.scatter(x, y, color = 'blue', s = mysize)\n",
    "ax1.set_aspect('equal', 'box')\n",
    "plt.axhline()\n",
    "plt.axvline()\n",
    "ax1.scatter(xcm, ycm, color = 'red', s = 0.5*maxsize)\n",
    "ax1.text(xcm*1.3, ycm*1.3, 'c.m.', ha = 'left', size=16)\n",
    "plt.grid()\n",
    "plt.show()\n",
    "\n",
    "print('\\n x c.m. = ', xcm, '\\n y c.m. = ', ycm)\n",
    "print()"
   ]
  },
  {
   "cell_type": "markdown",
   "metadata": {},
   "source": [
    "### Questions\n",
    "* What happens if we choose a new set of Cartesian axes whose origin coincides with the location of the center of mass?\n",
    "* Can we extend this project to three dimensions?"
   ]
  },
  {
   "cell_type": "markdown",
   "metadata": {},
   "source": [
    "&nbsp;\n",
    "\n",
    "### Copyright and License\n",
    "--------------------------\n",
    "(c) 2021 Andrea Mandanici, Giuseppe Mandaglio, Giovanni Pirrotta, Valeria Conti Nibali, Giacomo Fiumara. All content is under Creative Common Attribution  <a rel=\"license\" href=\"https://creativecommons.org/licenses/by/4.0\"> CC BY 4.0 </a> \n",
    " and all code is under [BSD 3-Clause License](https://opensource.org/licenses/BSD-3-Clause)."
   ]
  },
  {
   "cell_type": "code",
   "execution_count": null,
   "metadata": {},
   "outputs": [],
   "source": []
  }
 ],
 "metadata": {
  "kernelspec": {
   "display_name": "Python 3",
   "language": "python",
   "name": "python3"
  },
  "language_info": {
   "codemirror_mode": {
    "name": "ipython",
    "version": 3
   },
   "file_extension": ".py",
   "mimetype": "text/x-python",
   "name": "python",
   "nbconvert_exporter": "python",
   "pygments_lexer": "ipython3",
   "version": "3.7.4"
  }
 },
 "nbformat": 4,
 "nbformat_minor": 2
}
