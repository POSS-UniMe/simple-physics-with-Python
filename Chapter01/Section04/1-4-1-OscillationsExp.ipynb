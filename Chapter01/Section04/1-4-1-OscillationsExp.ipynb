{
 "cells": [
  {
   "cell_type": "markdown",
   "metadata": {},
   "source": [
    "# Oscillations\n",
    "\n",
    "## <span style=\"color:blue\"> Experiments </span>\n",
    "\n",
    "## Exploring the phenomenon\n",
    "\n",
    "A spring is firmly attached to a fixed point. The other end of the spring is connected to a body having mass *m*. If we move the body away from the equilibrium position and then we leave it free to move, we can observe oscillations. In this Notebook we want to highlight the features of the **oscillatory motion**."
   ]
  },
  {
   "cell_type": "code",
   "execution_count": 1,
   "metadata": {
    "scrolled": true
   },
   "outputs": [
    {
     "data": {
      "text/html": [
       "<video src=\"./video/TestMassaMolla.mp4\" controls  width=\"200\" >\n",
       "      Your browser does not support the <code>video</code> element.\n",
       "    </video>"
      ],
      "text/plain": [
       "<IPython.core.display.Video object>"
      ]
     },
     "execution_count": 1,
     "metadata": {},
     "output_type": "execute_result"
    }
   ],
   "source": [
    "from IPython.display import Video\n",
    "Video('./video/TestMassaMolla.mp4', width = 200)"
   ]
  },
  {
   "cell_type": "markdown",
   "metadata": {},
   "source": [
    "### Describing the motion\n",
    "\n",
    "The video recording of the motion of a spring-block stystem is stored in a file with **mp4**. We use the free software **Tracker** to import the video and look at it frame by frame.\n",
    "\n",
    "[![Tracker](./img/tracker_logo.png)](https://physlets.org/tracker/)\n",
    "\n",
    "For our purposes is convenient to rotate the video by 90 degrees counterclockwise. We can describe in detail the motion of the body in each instant of time using a set of Cartesian axes $xOy$ with the $x$ axis parallel to the axis of the spring.\n",
    "\n",
    "With the Tracker software we can obtain the coordinates of a selected part of the object (for instance, the red cylinder, in the present case) as a function of time.\n",
    "\n",
    "&nbsp;\n"
   ]
  },
  {
   "cell_type": "code",
   "execution_count": 2,
   "metadata": {},
   "outputs": [
    {
     "data": {
      "text/html": [
       "<video src=\"./video/OscillationsTracker.mp4\" controls  width=\"750\" >\n",
       "      Your browser does not support the <code>video</code> element.\n",
       "    </video>"
      ],
      "text/plain": [
       "<IPython.core.display.Video object>"
      ]
     },
     "execution_count": 2,
     "metadata": {},
     "output_type": "execute_result"
    }
   ],
   "source": [
    "from IPython.display import Video\n",
    "Video('./video/OscillationsTracker.mp4', width = 750)"
   ]
  },
  {
   "cell_type": "markdown",
   "metadata": {},
   "source": [
    "&nbsp;\n",
    "\n",
    "With a good approximation the motion develops along the $x$ axis, so it can be described as a **motion along a straight line**.\n",
    "\n",
    "The values of the $x$ coordinate as a function of time are reported in the table shown in the right part of the video and their graphical representation is also shown.\n",
    "\n",
    "Here we show the graph of $x$ versus $t$, along with the calculated values of the velocity, $v_x$, and of the acceleration, $a_x$.\n",
    "\n",
    "![](./img/OscillatoryMotionGraphs.png)\n",
    "\n",
    "* In this case we observe that the amplitude of the oscillation is reduced with time, i.e. we observe **damped oscillations**.\n",
    "* In some systems the damping is less relevant, so the amplitude of the oscillations remains almost constant with time."
   ]
  },
  {
   "cell_type": "markdown",
   "metadata": {},
   "source": [
    "### Remarks\n",
    "\n",
    "Looking at the figure here below: \n",
    "* we can observe that, when the object reaches the furthest position, its speed becomes zero.\n",
    "    * *See the vertical cyan lines*\n",
    "    \n",
    "* we also observe that the coordinate $x$ of the object changes around an average value (of about $0.15 m$ in the present case), which corresponds to the *equilibrium position*\n",
    "\n",
    "* when the objects passes through the equilibrium position, it has maximum speed.\n",
    "    * *See the vertical yellow lines*\n",
    "\n",
    "\n",
    "![](./img/MarkedOscillatoryMotionGraphs.png)"
   ]
  },
  {
   "cell_type": "markdown",
   "metadata": {},
   "source": [
    "&nbsp;\n",
    "\n",
    "### Exercise\n",
    "Imagine to be sitting on a chair which goes back and forth along a horizontal linear track, or imagine to be sitting on a swing.\n",
    "   * Compare such situations with the graphs reported above\n",
    "   * Comment on positive, negative, and zero values of the velocity $v_x$\n",
    "   * Comment on positive, negative, and zero values of the acceleration $a_x$"
   ]
  },
  {
   "cell_type": "markdown",
   "metadata": {},
   "source": [
    "&nbsp;\n",
    "\n",
    "> <span style=\"color:blue\"> **Sounds** </span>\n",
    "are related to oscillations.\n"
   ]
  },
  {
   "cell_type": "markdown",
   "metadata": {},
   "source": [
    "## Sounds and oscillations"
   ]
  },
  {
   "cell_type": "markdown",
   "metadata": {},
   "source": [
    "### Recording a sound\n",
    "Let us produce a whistling sound and record the sound with the Audacity app.\n",
    "\n",
    "<a href=\"https://www.audacityteam.org/\">\n",
    "<img src=\"./img/audacity_logo.png\" alt=\"audacity_logo\" width=\"100\"/> \n",
    "</a>\n"
   ]
  },
  {
   "cell_type": "markdown",
   "metadata": {},
   "source": [
    "The sound recorded can be saved as **mp3** file."
   ]
  },
  {
   "cell_type": "code",
   "execution_count": 3,
   "metadata": {},
   "outputs": [
    {
     "data": {
      "text/html": [
       "\n",
       "                <audio  controls=\"controls\" >\n",
       "                    <source src=\"data:audio/mpeg;base64,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\" type=\"audio/mpeg\" />\n",
       "                    Your browser does not support the audio element.\n",
       "                </audio>\n",
       "              "
      ],
      "text/plain": [
       "<IPython.lib.display.Audio object>"
      ]
     },
     "execution_count": 3,
     "metadata": {},
     "output_type": "execute_result"
    }
   ],
   "source": [
    "import IPython\n",
    "IPython.display.Audio(\"./sound/fischio.mp3\")"
   ]
  },
  {
   "cell_type": "markdown",
   "metadata": {},
   "source": [
    "Sounds can be understood as pressure fluctuations. Travelling to the microphone these fluctuations make its membrane vibrate. The microphone acts as a **transducer** and generates a potential difference that varies as a function time exactly as the pressure fluctuates versus time.\n",
    "\n",
    "![](./img/fischio.jpg)\n",
    "\n",
    "This figure is a screenshot from the software Audacity. The plot of the voltage as a function of time as shown in this figure clearly represents an oscillation. \n",
    "\n",
    "We try now to produce a sound with a higher pitch and record it with the Audacity app."
   ]
  },
  {
   "cell_type": "code",
   "execution_count": 4,
   "metadata": {},
   "outputs": [
    {
     "data": {
      "text/html": [
       "\n",
       "                <audio  controls=\"controls\" >\n",
       "                    <source src=\"data:audio/mpeg;base64,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\" type=\"audio/mpeg\" />\n",
       "                    Your browser does not support the audio element.\n",
       "                </audio>\n",
       "              "
      ],
      "text/plain": [
       "<IPython.lib.display.Audio object>"
      ]
     },
     "execution_count": 4,
     "metadata": {},
     "output_type": "execute_result"
    }
   ],
   "source": [
    "import IPython\n",
    "IPython.display.Audio(\"./sound/fischio2.mp3\")"
   ]
  },
  {
   "cell_type": "markdown",
   "metadata": {},
   "source": [
    "&nbsp;\n",
    "\n",
    "![](./img/2fischi.jpg)\n"
   ]
  },
  {
   "cell_type": "markdown",
   "metadata": {},
   "source": [
    "We obtain an oscillation (the <span style=\"color:blue\"> **blue**</span> curve in the lower part of the figure) similar to the previous one (the <span style=\"color:gray\"> **gray** </span> curve in the higher part of the figure), but the duration of one oscillation (the period) is smaller with respect to the previous case. "
   ]
  },
  {
   "cell_type": "markdown",
   "metadata": {},
   "source": [
    "### Get a feel of\n",
    "* How long does a complete oscillation of the mass-spring system last in the example we have studied?\n",
    "* How long is the period of an oscillation in the case of the first sound we recorded?"
   ]
  },
  {
   "cell_type": "markdown",
   "metadata": {},
   "source": [
    "&nbsp;\n",
    "\n",
    "### A definition\n",
    "\n",
    "We define the **frequency** as the reciprocal of the period.\n",
    "\n",
    "$$ f = \\dfrac{1}{T} $$\n",
    "\n",
    "* A sound with a higher pitch corresponds to an oscillation with smaller period, therefore it also corresponds to a higher frequency.\n",
    "* The unit of measurement for the frequency is called **Hertz** (Hz) in the SI unit system. A frequency of **1 Hz** corresponds to one oscillation per second.\n",
    "* Audible sounds correspond approximately to frequencies between 20 Hz and 20000 Hz."
   ]
  },
  {
   "cell_type": "markdown",
   "metadata": {},
   "source": [
    "## What we have learned\n",
    "*Physics*\n",
    "* Produce an oscillatory motion or other oscillatory phenomena\n",
    "* Study a physical variable that allows to describe an oscillation and acquire its values in an experiment.\n",
    "* Evaluate the period, i.e. the duration of a complete oscillation, as a parameter that characterizes the oscillation\n",
    "\n",
    "*Python*\n",
    "* Play a video inside a Jupyter Notebook\n",
    "* Play an audio file inside a Jupyter Notebook\n",
    "* Insert an image linked to a web address in a text cell of a Jupyter Notebook, using Markdown of HTML\n",
    "* Insert and rescale an image\n",
    "* Insert colored text in a Jupyter Notebook\n"
   ]
  },
  {
   "cell_type": "markdown",
   "metadata": {},
   "source": [
    "## References and notes\n",
    "\n",
    "#### Video\n",
    "* The **TestMassaMolla.mp4** video of the mass-spring experiment was recorded using a Samsung 9 smartphone (at a rate of 30.30 frames per second).\n",
    "* The video was rotated by 90 degrees using the method proposed in https://www.maketecheasier.com/rotate-vlc-video/\n",
    "* The video **OscillationsTracker.mp4** was realized as video capturing with the software [**ActivePresenter**](https://atomisystems.com/activepresenter/) of the animation produced with the software **Tracker**\n",
    "\n",
    "#### Markdown e HTML\n",
    "* [Insert coloured text](https://stackoverflow.com/questions/35465557/how-to-apply-color-in-markdown)\n",
    "* [Insert and resize an image](https://www.w3schools.com/html/html_images.asp)\n",
    "\n"
   ]
  },
  {
   "cell_type": "markdown",
   "metadata": {},
   "source": [
    "## Copyright and License\n",
    "\n",
    "All content is under Creative Common Attribution CC BY 4.0 and all code is under BSD 3-Clause License (c) 2021 Andrea Mandanici, Giuseppe Mandaglio, Giovanni Pirrotta."
   ]
  }
 ],
 "metadata": {
  "kernelspec": {
   "display_name": "Python 3",
   "language": "python",
   "name": "python3"
  },
  "language_info": {
   "codemirror_mode": {
    "name": "ipython",
    "version": 3
   },
   "file_extension": ".py",
   "mimetype": "text/x-python",
   "name": "python",
   "nbconvert_exporter": "python",
   "pygments_lexer": "ipython3",
   "version": "3.7.4"
  }
 },
 "nbformat": 4,
 "nbformat_minor": 2
}
