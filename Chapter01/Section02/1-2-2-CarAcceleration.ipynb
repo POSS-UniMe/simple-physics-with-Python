{
 "cells": [
  {
   "cell_type": "markdown",
   "metadata": {},
   "source": [
    "# The acceleration of a car\n",
    "\n",
    "Un certo autoveicolo con motore diesel può passare da $0$ a $100~km/h$ in $10$ secondi. Supponendo per semplicità che il **moto** sia rettilineo **uniformemente accelerato** (cioè con accelerazione costante) calcolare il valore dell'accelerazione e lo spazio percorso nei primi $10$ secondi per raggiungere la velocità di $100~km/h$.\n",
    "\n",
    "\n",
    "### Discussione del problema\n",
    "\n",
    "#### Calcolo dell'accelerazione\n",
    "Supponiamo che il moto si svolga lungo un asse $x$ orizzontale, con origine $O$ nella posizione iniziale dell'automobile, che immaginiamo per semplicità come un oggetto puntiforme.\n",
    "\n",
    "Se l'automobile si muove con accelerazione costante, per la definizione di accelerazione si ha\n",
    "\n",
    "$$ a = \\dfrac{v - v_0}{t - t_0} $$\n",
    "\n",
    "In questo caso, per calcolare l'accelerazione in $m/s^2$ occorre prima convertire il valore della velocità finale da $km/h$ a $m/s$.\n",
    "\n",
    "#### Calcolo dello spazio percorso\n",
    "Nel moto unidimensionale con accelerazione costante si ha\n",
    "\n",
    "$$ x = x_0 + v_0(t-t_0) + \\dfrac{1}{2}a (t-t_0)^2 $$\n",
    "\n",
    "Per $x_0 = 0$ e $v_0 = 0$, l'equazione che esprime $x$ in funzione del tempo $t$ (**legge oraria**) diventa\n",
    "\n",
    "$$ x = \\dfrac{1}{2}a (t-t_0)^2 $$\n",
    "\n",
    "Sostituendo il valore di $a$ ottenuto nella prima parte del problema, si può ricavare il valore di $x$, che corrisponde allo spazio percorso durante i primi $(t-t_0)$ secondi.\n",
    "\n",
    "Con il calcolo simbolico si ottiene\n",
    "$$ x = \\dfrac{1}{2} \\dfrac{v - v_0}{t - t_0} (t-t_0)^2 = \\dfrac{1}{2} (v - v_0) (t-t_0) $$\n",
    "\n",
    "In questo problema $x$ rappresenta la distanza che bisogna percorrere con accelerazione costante $a$ per arrivare alla velocità di 100 km/h.\n",
    "\n",
    "\n",
    "### Calcoli con Python\n",
    "\n",
    "Per calcolare l'accelerazione e lo spazio percorso utilizziamo le equazioni che abbiamo ricavato. Poichè il tempo necessario per andare da 0 a 100 km/h dipende dal tipo di veicolo che consideriamo, utilizziamo uno **slider** in modo da poter assegnare valori diversi alla variabile che rappresenta il tempo e stimare di conseguenza i risultati corrispondenti.\n",
    "\n",
    "> Per lavorare in modalità interattiva ed eseguire il codice Python in ambiente **binder** online,\n",
    "\n",
    "[![Binder](https://mybinder.org/badge_logo.svg)](https://mybinder.org/v2/gh/POSS-UniMe/simple-physics-with-Python-ITA/master?filepath=notebook%2F1-2-2-AccelerazioneAutomobile.ipynb)"
   ]
  },
  {
   "cell_type": "code",
   "execution_count": 1,
   "metadata": {},
   "outputs": [
    {
     "name": "stdout",
     "output_type": "stream",
     "text": [
      "\n",
      "\n",
      "Velocità finale = 27.778 m/s \n",
      "\n"
     ]
    },
    {
     "data": {
      "application/vnd.jupyter.widget-view+json": {
       "model_id": "65de6ef2eab347798e2e87d828b50c29",
       "version_major": 2,
       "version_minor": 0
      },
      "text/plain": [
       "interactive(children=(FloatSlider(value=10.0, description='Tempo (s)', max=20.0), Output()), _dom_classes=('wi…"
      ]
     },
     "metadata": {},
     "output_type": "display_data"
    },
    {
     "data": {
      "text/plain": [
       "<function __main__.calculate(Dt)>"
      ]
     },
     "execution_count": 1,
     "metadata": {},
     "output_type": "execute_result"
    }
   ],
   "source": [
    "import ipywidgets as widgets\n",
    "\n",
    "vf = 100/3.6     # velocità finale (m/s)\n",
    "v0 = 0          # velocità iniziale (m/s)\n",
    "\n",
    "print()\n",
    "print('\\nVelocità finale = {0:0.3f} m/s \\n'.format(vf))\n",
    "\n",
    "sliderDt = (\n",
    "    widgets.FloatSlider(min = 0, max = 20, step = 0.1, \n",
    "                        value = 10, description = 'Tempo (s)'))     # tempo (s)\n",
    "\n",
    "def calculate(Dt):\n",
    "    a = (vf-v0)/Dt    # accelerazione (m/s^2)\n",
    "    print('\\nAccelerazione = {0:0.3f} m/s^2 \\n'.format(a))\n",
    "    Dx = 0.5*(vf-v0)*Dt    # spazio percorso (m)\n",
    "    print('Spazio percorso nei primi {0:0.2f} secondi = {1:0.3f} m'.format(Dt,Dx))\n",
    "    print()  \n",
    "    \n",
    "widgets.interact(calculate, Dt = sliderDt)"
   ]
  },
  {
   "cell_type": "markdown",
   "metadata": {},
   "source": [
    "Car & model | Time 0 to 100 km/h | Source\n",
    "-------------|---------------|--------------\n",
    "Tesla model 3 | 3.4 s | [Tesla](https://www.tesla.com/it_it/model3)\n",
    "Renault Kadjar dCi 115 cv Sport Edition | 11.7 s | [automoto.it](https://www.automoto.it/catalogo/renault/kadjar/dci-8v-115cv-sport-edition/132970/amp)\n",
    "Toyota 1.5 Hybrid VVT-i | 9.7 s | [Toyota](https://www.toyota.it/)\n",
    "Fiat Bravo 1.6 Multijet 16V 105 CV | 11.2 s | [Al volante](https://www.alvolante.it/)\n",
    "Porsche Taycan Turbo S | 2.8 s | [Porsche](https://www.porsche.com/italy/models/taycan/taycan-models/taycan-turbo-s/)"
   ]
  },
  {
   "cell_type": "markdown",
   "metadata": {},
   "source": [
    "### Get a feel of\n",
    "Confrontare il valore dell'accelerazione $a$ con il valore dell'accelerazione che caratterizza la caduta libera, cioè l'accelerazione di gravità.\n",
    "\n",
    "&nbsp;\n"
   ]
  },
  {
   "cell_type": "markdown",
   "metadata": {},
   "source": [
    "## Approfondimento\n",
    "### Rappresentazione grafica delle equazioni del moto\n",
    "\n",
    "Consideriamo l'intervallo di tempo che va dall'istante iniziale $t_0$ all'istante $t_0 + \\Delta t$. Vogliamo rappresentare graficamente i valori delle grandezze fisiche che caratterizzano il moto: si tratta dell'accelerazione $a$, della velocità $v$ e della coordinata $x$ (che descrive la posizione dell'automobile) in funzione del tempo $t$.\n",
    "\n",
    "A questo scopo consideriamo un array di valori di tempo equidistanti fra loro utilizzando la funzione **linspace** della libreria **numpy**. Poi, per il valore assegnato dell'accelerazione $a$, calcoliamo i valori della velocità $v$ secondo l'equazione \n",
    "\n",
    "$$ v =  v_0 + a\\cdot(t - t_0) $$\n",
    "\n",
    "e i valori di $x$ secondo l'equazione\n",
    "\n",
    "$$ x = x_0 + v_0 \\cdot(t - t_0 ) + \\dfrac{1}{2} a\\cdot (t - t_0 ) ^2 $$.\n",
    "\n",
    "\n",
    "\n"
   ]
  },
  {
   "cell_type": "code",
   "execution_count": 2,
   "metadata": {},
   "outputs": [
    {
     "name": "stdout",
     "output_type": "stream",
     "text": [
      "acceleration =  2.7777777777777777\n"
     ]
    },
    {
     "data": {
      "text/plain": [
       "Text(0, 0.5, '$x$ (m)')"
      ]
     },
     "execution_count": 2,
     "metadata": {},
     "output_type": "execute_result"
    }
   ],
   "source": [
    "import numpy as np\n",
    "import matplotlib.pyplot as plt\n",
    "\n",
    "t0 = 0\n",
    "x0 = 0\n",
    "Dt = sliderDt.value\n",
    "a = (vf-v0)/Dt\n",
    "print('acceleration = ', a)\n",
    "numpoints = 100\n",
    "\n",
    "t = np.linspace(t0,t0 + Dt,numpoints)\n",
    "\n",
    "#print('Dt = ', Dt)\n",
    "#print('numpoints = ', numpoints)\n",
    "#print('times = ', t)\n",
    "\n",
    "v = v0 + a * (t - t0)\n",
    "\n",
    "x = x0 + v0 * (t - t0) + 0.5 * a * (t - t0)**2\n",
    "\n",
    "fig1 = plt.figure(figsize=(7, 13))\n",
    "\n",
    "plt.subplot(3, 1, 1)\n",
    "plt.axhline(y = a, xmin = 0.05, xmax = 0.95, color = 'green', linewidth = 3)\n",
    "plt.axhline(y=0, color = 'gray', zorder = -1)\n",
    "plt.axvline(x=t0, zorder = -1, linestyle = '--')\n",
    "plt.axvline(x=t0+Dt, zorder = -1, linestyle = '--')\n",
    "plt.xlabel('time  $t$ (s)')\n",
    "plt.ylabel('$a$ (m/s$^2$)')\n",
    "\n",
    "plt.subplot(3, 1, 2)\n",
    "plt.plot(t, v, '-', color = 'red', linewidth = 2)\n",
    "plt.axhline(color = 'gray', zorder = -1)\n",
    "plt.axhline(y = vf, xmin=0.05, xmax = 1, color = 'cyan', zorder = -1, linestyle = '--')\n",
    "plt.axvline(color = 'gray', zorder = -1)\n",
    "plt.xlabel('time  $t$ (s)')\n",
    "plt.ylabel('$v$ (m/s)')\n",
    "\n",
    "plt.subplot(3, 1, 3)\n",
    "plt.plot(t, x, '-', color = 'blue', linewidth = 2)\n",
    "plt.axhline(color = 'gray', zorder = -1)\n",
    "plt.axvline(color = 'gray', zorder = -1)\n",
    "plt.xlabel('time  $t$ (s)')\n",
    "plt.ylabel('$x$ (m)')\n",
    "\n"
   ]
  },
  {
   "cell_type": "markdown",
   "metadata": {},
   "source": [
    "### Velocità in funzione della posizione\n",
    "\n",
    "Dalle equazioni $x = x(t)$ e $v=v(t)$ si può ricavare un'equazione che mette in relazione la velocità con la posizione:\n",
    "\n",
    "$$ v^2 = v_0^2 + 2 a\\cdot(x-x_0) $$\n",
    "\n",
    "Da questa relazione possiamo ricavare il **modulo** della velocità (ma perdiamo l'informazione sul segno):\n",
    "\n",
    "$$ v = \\sqrt{v_0^2 + 2 a\\cdot(x-x_0)} $$\n",
    "\n",
    "Si può anche esprimere la coordinata $x$ in funzione della velocità, secondo la relazione\n",
    "\n",
    "$$ x = x_0 + \\dfrac{v^2-v_0^2}{2 a} $$"
   ]
  },
  {
   "cell_type": "code",
   "execution_count": 3,
   "metadata": {},
   "outputs": [
    {
     "data": {
      "text/plain": [
       "Text(0, 0.5, '$x$ (m)')"
      ]
     },
     "execution_count": 3,
     "metadata": {},
     "output_type": "execute_result"
    },
    {
     "data": {
      "image/png": "[encoded data removed]",
      "text/plain": [
       "<Figure size 504x936 with 2 Axes>"
      ]
     },
     "metadata": {
      "needs_background": "light"
     },
     "output_type": "display_data"
    }
   ],
   "source": [
    "fig2 = plt.figure(figsize=(7, 13))\n",
    "\n",
    "plt.subplot(2, 1, 1)\n",
    "plt.plot(x, v, '-', color = 'orange', linewidth = 3)\n",
    "plt.axhline(color = 'gray', zorder = -1)\n",
    "plt.axvline(color = 'gray', zorder = -1)\n",
    "plt.xlabel('$x$ (m)')\n",
    "plt.ylabel('$|v|$ (m/s)')\n",
    "\n",
    "plt.subplot(2, 1, 2)\n",
    "plt.plot(v, x, '-', color = 'red', linewidth = 2)\n",
    "plt.axhline(color = 'gray', zorder = -1)\n",
    "plt.axvline(color = 'gray', zorder = -1)\n",
    "plt.xlabel('$v$ (m/s)')\n",
    "plt.ylabel('$x$ (m)')"
   ]
  },
  {
   "cell_type": "markdown",
   "metadata": {},
   "source": [
    "## What we have learned\n",
    "*Fisica*\n",
    "* Utilizzare le equazioni del moto con accelerazione costante\n",
    "* Stimare il valore dell'accelerazione in un tipo di fenomeno che riguarda la vita quotidiana\n",
    "\n",
    "*Python*\n",
    "* Widgets\n",
    "* Tabella contenente link\n",
    "* Costruire il grafico di una funzione\n",
    "* Costruire una figura contenente più grafici"
   ]
  },
  {
   "cell_type": "markdown",
   "metadata": {},
   "source": [
    "## References\n",
    "#### Equazioni del moto uniformemente accelerato\n",
    "Serway, Jewett, *Fisica per Scienze e Ingegneria*, EdiSES, vol. I, Quinta Edizione\n",
    "&nbsp;\n",
    "#### Array con la libreria **numpy**\n",
    "[Numpy arrays](https://physics.nyu.edu/pine/pymanual/html/chap3/chap3_arrays.html#numpy-arrays) in David J. Pine, [Introduction to Python for Science](https://physics.nyu.edu/pine/pymanual/html/pymanMaster.html)\n",
    "\n",
    "[Play with numpy arrays](https://nbviewer.jupyter.org/github/engineersCode/EngComp1_offtheground/blob/master/notebooks_en/4_NumPy_Arrays_and_Plotting.ipynb) in Lorena Barba, Natalia Clementi, [Engineering Computations](https://github.com/engineersCode/EngComp)\n",
    "\n",
    "#### Grafici di funzioni\n",
    "[Basic plotting](https://physics.nyu.edu/pine/pymanual/html/chap5/chap5_plot.html#basic-plotting) in  David J. Pine, [Introduction to Python for Science](https://physics.nyu.edu/pine/pymanual/html/pymanMaster.html)\n",
    "\n",
    "[Time to plot](https://nbviewer.jupyter.org/github/engineersCode/EngComp1_offtheground/blob/master/notebooks_en/4_NumPy_Arrays_and_Plotting.ipynb#Time-to-Plot) in Lorena Barba, Natalia Clementi, [Engineering Computations](https://github.com/engineersCode/EngComp)\n",
    "\n",
    "\n",
    "### Copyright and License\n",
    "--------------------------\n",
    "(c) 2021 Andrea Mandanici, Giuseppe Mandaglio, Giovanni Pirrotta, Valeria Conti Nibali. All content is under Creative Common Attribution  <a rel=\"license\" href=\"https://creativecommons.org/licenses/by/4.0\" > CC BY 4.0 <a/> \n",
    " and all code is under [BSD 3-Clause License](https://opensource.org/licenses/BSD-3-Clause). Notebook based on the Italian version\n",
    "(c) 2020 Andrea Mandanici, Marco Guarnera, Giuseppe Mandaglio, Giovanni Pirrotta. All content is under Creative Common Attribution  <a rel=\"license\" href=\"https://creativecommons.org/licenses/by/4.0\" > CC BY 4.0 <a/> \n",
    " and all code is under [BSD 3-Clause License](https://opensource.org/licenses/BSD-3-Clause)\n"
   ]
  },
  {
   "cell_type": "code",
   "execution_count": null,
   "metadata": {},
   "outputs": [],
   "source": []
  }
 ],
 "metadata": {
  "kernelspec": {
   "display_name": "Python 3",
   "language": "python",
   "name": "python3"
  },
  "language_info": {
   "codemirror_mode": {
    "name": "ipython",
    "version": 3
   },
   "file_extension": ".py",
   "mimetype": "text/x-python",
   "name": "python",
   "nbconvert_exporter": "python",
   "pygments_lexer": "ipython3",
   "version": "3.7.4"
  }
 },
 "nbformat": 4,
 "nbformat_minor": 2
}
