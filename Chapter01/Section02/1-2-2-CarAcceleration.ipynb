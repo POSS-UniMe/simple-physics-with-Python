{
 "cells": [
  {
   "cell_type": "markdown",
   "metadata": {},
   "source": [
    "# The acceleration of a car\n",
    "\n",
    "A car with diesel engine can speed up from rest to $100~km/h$ in $10$ seconds. Assuming the car as a point-like object that moves on a straight line and assuming that the **motion** occurs with **constant acceleration** we want to calculate the value of the acceleration and we want to estimate the displacement occured during the $10$ seconds needed to the car to reach the speed of $100~km/h$.\n",
    "\n",
    "\n",
    "### Discussion of the problem\n",
    "\n",
    "#### Calculating the acceleration\n",
    "We describe the motion assuming the car moves along a horizontal axis, $x$, whose origin $O$ is chosen in the initial position of the car. \n",
    "\n",
    "If the car moves with constant acceleration, the instantaneous value of the acceleration is equal to the average value calculated on whichever time interval. Thus, using the definition of average acceleration in a time interval between time $t_0$ and time $t$, we have\n",
    "\n",
    "$$ a = \\dfrac{v - v_0}{t - t_0} $$\n",
    "\n",
    "In this specific problem, aiming to calculate the acceleration in  $m/s^2$ we need to convert the value of the final velocity from $km/h$ to $m/s$.\n",
    "\n",
    "#### Calculating the final position\n",
    "In a motion with constant acceleration the particle's position at time $t$ is \n",
    "\n",
    "$$ x = x_0 + v_0(t-t_0) + \\dfrac{1}{2}a (t-t_0)^2 $$\n",
    "\n",
    "For $x_0 = 0$ and $v_0 = 0$, the equation giving $x$ as a function of the time $t$ (**kinetic equation**) becomes\n",
    "\n",
    "$$ x = \\dfrac{1}{2}a (t-t_0)^2 $$\n",
    "\n",
    "Substituting for $a$ the value obtained from the first parto fo the problem, we can obtain the value of $x$. This value also corresponds to the displacement $x - x_0$  occurred during the first $(t-t_0)$ seconds, since in this case $x_0$ = 0.\n",
    "\n",
    "Using symbolic calculus we obtain\n",
    "$$ x = \\dfrac{1}{2} \\dfrac{v - v_0}{t - t_0} (t-t_0)^2 = \\dfrac{1}{2} (v - v_0) (t-t_0) $$\n",
    "\n",
    "In other words, in this problem $x$ represents the distance needed to speed up from rest to 100 km/h with constant acceleration.\n",
    "\n",
    "\n",
    "### Calculation with Python\n",
    "\n",
    "To calculate the acceleration and the displacement we tuse the equations obtained above. Since in a real case the time needed to go from 0 to 100 km/h depends on the kind of vehicle chosen, we can use a **slider** so that we can easily choose among different values the actual value to be assigned to the variable that represents the time, then we will calculate the corresponding result.\n",
    "\n",
    "> You can work in an interactive mode and run the Python codes in the **binder** environment online,\n",
    "\n",
    "[![Binder](https://mybinder.org/badge_logo.svg)](https://mybinder.org/v2/gh/POSS-UniMe/simple-physics-with-Python/HEAD)\n",
    "\n",
    "&nbsp;\n"
   ]
  },
  {
   "cell_type": "code",
   "execution_count": 1,
   "metadata": {},
   "outputs": [
    {
     "name": "stdout",
     "output_type": "stream",
     "text": [
      "\n",
      "\n",
      "Final velocity = 27.778 m/s \n",
      "\n"
     ]
    },
    {
     "data": {
      "application/vnd.jupyter.widget-view+json": {
       "model_id": "6bbec6657cb24208bd9aa0e7574b9c5e",
       "version_major": 2,
       "version_minor": 0
      },
      "text/plain": [
       "interactive(children=(FloatSlider(value=10.0, description='Time (s)', max=20.0), Output()), _dom_classes=('wid…"
      ]
     },
     "metadata": {},
     "output_type": "display_data"
    },
    {
     "data": {
      "text/plain": [
       "<function __main__.calculate(Dt)>"
      ]
     },
     "execution_count": 1,
     "metadata": {},
     "output_type": "execute_result"
    }
   ],
   "source": [
    "import ipywidgets as widgets\n",
    "\n",
    "vf = 100/3.6     # final velocity (m/s)\n",
    "v0 = 0          # initial velocity (m/s)\n",
    "\n",
    "print()\n",
    "print('\\nFinal velocity = {0:0.3f} m/s \\n'.format(vf))\n",
    "\n",
    "sliderDt = (\n",
    "    widgets.FloatSlider(min = 0, max = 20, step = 0.1, \n",
    "                        value = 10, description = 'Time (s)'))     # time (s)\n",
    "\n",
    "def calculate(Dt):\n",
    "    a = (vf-v0)/Dt    # acceleration (m/s^2)\n",
    "    print('\\nAccelerazione = {0:0.3f} m/s^2 \\n'.format(a))\n",
    "    Dx = 0.5*(vf-v0)*Dt    # displacement (m)\n",
    "    print('The displacement occurred during the first {0:0.2f} seconds is {1:0.3f} m'.format(Dt,Dx))\n",
    "    print()  \n",
    "    \n",
    "widgets.interact(calculate, Dt = sliderDt)"
   ]
  },
  {
   "cell_type": "markdown",
   "metadata": {},
   "source": [
    "&nbsp;\n",
    "\n",
    "In the following table we can find for different kind of cars the time needed to speed up from rest to 100 km/h. This parameter is very often used to express the performances of a car\n",
    "&nbsp;\n"
   ]
  },
  {
   "cell_type": "markdown",
   "metadata": {},
   "source": [
    "Car & model | Time 0 to 100 km/h | Source\n",
    "-------------|---------------|--------------\n",
    "Tesla model 3 | 3.4 s | [Tesla](https://www.tesla.com/it_it/model3)\n",
    "Renault Kadjar dCi 115 cv Sport Edition | 11.7 s | [automoto.it](https://www.automoto.it/catalogo/renault/kadjar/dci-8v-115cv-sport-edition/132970/amp)\n",
    "Toyota 1.5 Hybrid VVT-i | 9.7 s | [Toyota](https://www.toyota.it/)\n",
    "Fiat Bravo 1.6 Multijet 16V 105 CV | 11.2 s | [Al volante](https://www.alvolante.it/)\n",
    "Porsche Taycan Turbo S | 2.8 s | [Porsche](https://www.porsche.com/italy/models/taycan/taycan-models/taycan-turbo-s/)"
   ]
  },
  {
   "cell_type": "markdown",
   "metadata": {},
   "source": [
    "### Get a feel of\n",
    "Compare the value of the acceleration $a$ of a car with the value of the acceleration that characterizes the free fall of the bodies, i.e. the gravity acceleration.\n",
    "\n",
    "&nbsp;\n"
   ]
  },
  {
   "cell_type": "markdown",
   "metadata": {},
   "source": [
    "## Insights\n",
    "### Graphical representations of the equations of motion\n",
    "\n",
    "Let us consider the time intervale between the initial time $t_0$ and the time $t_0 + \\Delta t$. We want to represent graphically the values of the variables that correspond to physical quantities characterizing the motion. This means that we want to obtain a plot of the values of the acceleration $a$, of the velocity $v$ and of the coordinate  $x$ (which describes the position of the car) as a function of time, $t$. \n",
    "\n",
    "To this aim we start considering an array of values of time linearly spaced in a chosen range, using the **linspace** function of the **numpy** library. Then, for the given value of the acceleration $a$, we calculate the values of the velocity $v$ according to the equation \n",
    "\n",
    "$$ v =  v_0 + a\\cdot(t - t_0) $$\n",
    "\n",
    "and the values of $x$ according to the equation\n",
    "\n",
    "$$ x = x_0 + v_0 \\cdot(t - t_0 ) + \\dfrac{1}{2} a\\cdot (t - t_0 ) ^2 $$.\n",
    "\n",
    "\n",
    "\n"
   ]
  },
  {
   "cell_type": "code",
   "execution_count": 2,
   "metadata": {},
   "outputs": [
    {
     "name": "stdout",
     "output_type": "stream",
     "text": [
      "acceleration =  5.668934240362812\n"
     ]
    },
    {
     "data": {
      "text/plain": [
       "Text(0, 0.5, '$x$ (m)')"
      ]
     },
     "execution_count": 2,
     "metadata": {},
     "output_type": "execute_result"
    }
   ],
   "source": [
    "import numpy as np\n",
    "import matplotlib.pyplot as plt\n",
    "\n",
    "t0 = 0\n",
    "x0 = 0\n",
    "Dt = sliderDt.value\n",
    "a = (vf-v0)/Dt\n",
    "print('acceleration = ', a)\n",
    "numpoints = 100\n",
    "\n",
    "t = np.linspace(t0,t0 + Dt,numpoints)\n",
    "\n",
    "#print('Dt = ', Dt)\n",
    "#print('numpoints = ', numpoints)\n",
    "#print('times = ', t)\n",
    "\n",
    "v = v0 + a * (t - t0)\n",
    "\n",
    "x = x0 + v0 * (t - t0) + 0.5 * a * (t - t0)**2\n",
    "\n",
    "fig1 = plt.figure(figsize=(7, 13))\n",
    "\n",
    "plt.subplot(3, 1, 1)\n",
    "plt.axhline(y = a, xmin = 0.05, xmax = 0.95, color = 'green', linewidth = 3)\n",
    "plt.axhline(y=0, color = 'gray', zorder = -1)\n",
    "plt.axvline(x=t0, zorder = -1, linestyle = '--')\n",
    "plt.axvline(x=t0+Dt, zorder = -1, linestyle = '--')\n",
    "plt.xlabel('time  $t$ (s)')\n",
    "plt.ylabel('$a$ (m/s$^2$)')\n",
    "\n",
    "plt.subplot(3, 1, 2)\n",
    "plt.plot(t, v, '-', color = 'red', linewidth = 2)\n",
    "plt.axhline(color = 'gray', zorder = -1)\n",
    "plt.axhline(y = vf, xmin=0.05, xmax = 1, color = 'cyan', zorder = -1, linestyle = '--')\n",
    "plt.axvline(color = 'gray', zorder = -1)\n",
    "plt.xlabel('time  $t$ (s)')\n",
    "plt.ylabel('$v$ (m/s)')\n",
    "\n",
    "plt.subplot(3, 1, 3)\n",
    "plt.plot(t, x, '-', color = 'blue', linewidth = 2)\n",
    "plt.axhline(color = 'gray', zorder = -1)\n",
    "plt.axvline(color = 'gray', zorder = -1)\n",
    "plt.xlabel('time  $t$ (s)')\n",
    "plt.ylabel('$x$ (m)')\n",
    "\n"
   ]
  },
  {
   "cell_type": "markdown",
   "metadata": {},
   "source": [
    "### Velocity as a function of the position\n",
    "\n",
    "Can we estimate the velocity of the car just knowing its instantaneous position along the trajectory?\n",
    "\n",
    "From the equations $x = x(t)$ and $v=v(t)$ we can obtain an equation which relates the velocity to the position:\n",
    "\n",
    "$$ v^2 = v_0^2 + 2 a\\cdot(x-x_0) $$\n",
    "\n",
    "From this equation we can obtain the **module** of the velocity (but we loose information about the sign):\n",
    "\n",
    "$$ v = \\sqrt{v_0^2 + 2 a\\cdot(x-x_0)} $$\n",
    "\n",
    "Conversely, we can express the coordinate $x$ as a function of the velocity, using the equation\n",
    "\n",
    "$$ x = x_0 + \\dfrac{v^2-v_0^2}{2 a} $$"
   ]
  },
  {
   "cell_type": "code",
   "execution_count": 3,
   "metadata": {},
   "outputs": [
    {
     "data": {
      "text/plain": [
       "Text(0, 0.5, '$x$ (m)')"
      ]
     },
     "execution_count": 3,
     "metadata": {},
     "output_type": "execute_result"
    },
    {
     "data": {
      "image/png": "[encoded data removed]",
      "text/plain": [
       "<Figure size 504x936 with 2 Axes>"
      ]
     },
     "metadata": {
      "needs_background": "light"
     },
     "output_type": "display_data"
    }
   ],
   "source": [
    "fig2 = plt.figure(figsize=(7, 13))\n",
    "\n",
    "plt.subplot(2, 1, 1)\n",
    "plt.plot(x, v, '-', color = 'orange', linewidth = 3)\n",
    "plt.axhline(color = 'gray', zorder = -1)\n",
    "plt.axvline(color = 'gray', zorder = -1)\n",
    "plt.xlabel('$x$ (m)')\n",
    "plt.ylabel('$|v|$ (m/s)')\n",
    "\n",
    "plt.subplot(2, 1, 2)\n",
    "plt.plot(v, x, '-', color = 'red', linewidth = 2)\n",
    "plt.axhline(color = 'gray', zorder = -1)\n",
    "plt.axvline(color = 'gray', zorder = -1)\n",
    "plt.xlabel('$v$ (m/s)')\n",
    "plt.ylabel('$x$ (m)')"
   ]
  },
  {
   "cell_type": "markdown",
   "metadata": {},
   "source": [
    "## What we have learned\n",
    "*Fisica*\n",
    "* Using the equations for a motion with constant acceleration\n",
    "* Estimating the acceleration in a phenomenon which concerns everyday's life.\n",
    "\n",
    "*Python*\n",
    "* Using Widgets\n",
    "* Building a table that contains links\n",
    "* Graphing a function\n",
    "* Preparing a figure that contains several plots"
   ]
  },
  {
   "cell_type": "markdown",
   "metadata": {},
   "source": [
    "## References\n",
    "#### Equations for the motion with constant acceleration along a straight line\n",
    "Young, Hugh, D. and Roger A. Freedman. University Physics with Modern Physics, eBook, Global Edition. Available from: VitalSource Bookshelf, (15th Edition). Pearson International Content, 2019.\n",
    "&nbsp;\n",
    "\n",
    "Serway, Raymond, A. et al. Physics for Global Scientists and Engineers, Volume 1. Available from: VitalSource Bookshelf, (2nd Edition). Cengage Learning Australia, 2016.\n",
    "&nbsp;\n",
    "\n",
    "#### Arrays with **numpy**\n",
    "[Numpy arrays](https://physics.nyu.edu/pine/pymanual/html/chap3/chap3_arrays.html#numpy-arrays) in David J. Pine, [Introduction to Python for Science](https://physics.nyu.edu/pine/pymanual/html/pymanMaster.html)\n",
    "\n",
    "[Play with numpy arrays](https://nbviewer.jupyter.org/github/engineersCode/EngComp1_offtheground/blob/master/notebooks_en/4_NumPy_Arrays_and_Plotting.ipynb) in Lorena Barba, Natalia Clementi, [Engineering Computations](https://github.com/engineersCode/EngComp)\n",
    "\n",
    "#### Plotting functions\n",
    "[Basic plotting](https://physics.nyu.edu/pine/pymanual/html/chap5/chap5_plot.html#basic-plotting) in  David J. Pine, [Introduction to Python for Science](https://physics.nyu.edu/pine/pymanual/html/pymanMaster.html)\n",
    "\n",
    "[Time to plot](https://nbviewer.jupyter.org/github/engineersCode/EngComp1_offtheground/blob/master/notebooks_en/4_NumPy_Arrays_and_Plotting.ipynb#Time-to-Plot) in Lorena Barba, Natalia Clementi, [Engineering Computations](https://github.com/engineersCode/EngComp)\n",
    "\n",
    "\n",
    "### Copyright and License\n",
    "--------------------------\n",
    "(c) 2021 Andrea Mandanici, Giuseppe Mandaglio, Giovanni Pirrotta, Valeria Conti Nibali, Giacomo Fiumara. All content is under Creative Common Attribution  <a rel=\"license\" href=\"https://creativecommons.org/licenses/by/4.0\" > CC BY 4.0 <a/> \n",
    " and all code is under [BSD 3-Clause License](https://opensource.org/licenses/BSD-3-Clause). Notebook based on the Italian version\n",
    "(c) 2020 Andrea Mandanici, Marco Guarnera, Giuseppe Mandaglio, Giovanni Pirrotta. All content is under Creative Common Attribution  <a rel=\"license\" href=\"https://creativecommons.org/licenses/by/4.0\" > CC BY 4.0 <a/> \n",
    " and all code is under [BSD 3-Clause License](https://opensource.org/licenses/BSD-3-Clause)\n"
   ]
  },
  {
   "cell_type": "code",
   "execution_count": null,
   "metadata": {},
   "outputs": [],
   "source": []
  }
 ],
 "metadata": {
  "kernelspec": {
   "display_name": "Python 3",
   "language": "python",
   "name": "python3"
  },
  "language_info": {
   "codemirror_mode": {
    "name": "ipython",
    "version": 3
   },
   "file_extension": ".py",
   "mimetype": "text/x-python",
   "name": "python",
   "nbconvert_exporter": "python",
   "pygments_lexer": "ipython3",
   "version": "3.7.4"
  }
 },
 "nbformat": 4,
 "nbformat_minor": 2
}
