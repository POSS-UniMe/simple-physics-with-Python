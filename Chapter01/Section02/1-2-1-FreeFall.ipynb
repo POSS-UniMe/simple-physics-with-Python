{
 "cells": [
  {
   "cell_type": "markdown",
   "metadata": {},
   "source": [
    "# Free fall\n",
    "\n"
   ]
  },
  {
   "cell_type": "code",
   "execution_count": 1,
   "metadata": {
    "scrolled": true
   },
   "outputs": [
    {
     "data": {
      "text/html": [
       "<video src=\"./video/cadutaLibera.mp4\" controls  width=\"400\" >\n",
       "      Your browser does not support the <code>video</code> element.\n",
       "    </video>"
      ],
      "text/plain": [
       "<IPython.core.display.Video object>"
      ]
     },
     "execution_count": 1,
     "metadata": {},
     "output_type": "execute_result"
    }
   ],
   "source": [
    "from IPython.display import Video\n",
    "Video('./video/cadutaLibera.mp4', width = 400)"
   ]
  },
  {
   "cell_type": "markdown",
   "metadata": {},
   "source": [
    "### Problem\n",
    "\n",
    "A body is initially kept in a fixed position at a height $h$ with respect to the ground. At a precise instant it is left free to fall under the action of the gravitational force exerted on it by the Earth.\n",
    "\n",
    "If the effect of the air friction on the motion of the body can be ignored, then the body will fall along a straight line, pointing towards the center of Earth, with a constant acceleration \n",
    "\n",
    "$$ g \\simeq 9.81 m/s^2 \\hspace{1 cm} \\textbf{acceleration due to the gravity}$$\n",
    "\n",
    "Can we estimate\n",
    "* the time needed to reach the ground,\n",
    "* and the speed of the body at the arrival on the ground ?\n",
    "\n",
    "&nbsp;"
   ]
  },
  {
   "cell_type": "markdown",
   "metadata": {},
   "source": [
    "### Discussion of the problem\n",
    "\n",
    "#### Fall time\n",
    "\n",
    "For the sake of simplicity we consider the body as a particle. We choose a point of the body and we represent the entire body by that point. If the particle moves along the $x$-axis with constant acceleration $a$ (**motion with constant acceleration**), the $x$ coordinate depends on the time $t$ through the relation\n",
    "\n",
    "$$ x = x_0 + v_0 t + \\dfrac{1}{2} a t^2 $$\n",
    "\n",
    "In this case we choose a vertical $x$-axis and the *downward* direction as positive. We take the origin $O$ at the starting point, so we will have $x_0 = 0$. Moreover, we have $v_0 = 0$, since the initial velocity of the body is zero. \n",
    "\n",
    "Thus, we have \n",
    "\n",
    "$$ x = \\dfrac{1}{2} a t^2 $$\n",
    "\n",
    "In the present case, the acceleration $a$ is substituted for the value of the acceleration $g$ due to gravity. In the equation for $x(t)$ we consider the **fall time**. The distance travelled is equal to the initial distance, $h$, between the body and the ground. As a consequence, the previous equation becomes\n",
    "\n",
    "$$ h = \\dfrac{1}{2} g t^2 \\hspace{2cm} $$\n",
    "\n",
    "from which it follows\n",
    "\n",
    "$$  t = \\sqrt{\\dfrac{2 h}{g}} $$\n",
    "\n",
    "#### Ground impact speed\n",
    "\n",
    "If a particle moves with constant acceleration, the velocity changes according to the relation\n",
    "\n",
    "$$ v = v_0 + a t $$\n",
    "\n",
    "that, in the present case, becomes\n",
    "\n",
    "$$ v = g t $$\n",
    "\n",
    "If for $t$ we consider the fall time, from this equation we obtain the magnitude of the velocity at the instant in which the body impacts on the ground.\n",
    "\n",
    "If we use symbolic calculation, we obtain\n",
    "\n",
    "$$ v = g \\sqrt{\\dfrac{2 h}{g}} = \\sqrt{2 g h}$$\n",
    "\n",
    "##### Another possible method\n",
    "\n",
    "The two equations concerning respectively the time dependence of the coordinate $x$ and that of the velocity $v$ for the case of a particle moving with constant acceleration, \n",
    "\n",
    "$$ x = x_0 + v_0 t + \\dfrac{1}{2} a t^2  $$\n",
    "\n",
    "and\n",
    "\n",
    "$$ v = v_0 + a t $$\n",
    "\n",
    "it is possible to obtain the equation that relates the velocity to the position\n",
    "\n",
    "$$ v^2 = v_0^2 + 2 a (x-x_0) $$ \n",
    "\n",
    "In this case, the equation becomes\n",
    "\n",
    "$$ v^2 = 2 g (x-x_0) .$$\n",
    "\n",
    "For $x-x_0 = h$ we obtain the velocity with which the body arrives to the ground, in fact $v^2 = 2 g h$ and finally\n",
    "\n",
    "$$ v = \\sqrt{2 g h}$$\n",
    "\n",
    "\n",
    "### Calculations with Python\n",
    "\n",
    "We use the equations that allow to calculate the fall time and the ground impact speed as a function of the initial height.\n",
    "\n",
    "We insert a **slider** for evaluating the variables in correspondance with selected values of the initial height, in a range between 0 and 10 meters, with a step of 10 cm, i.e. 0.1 m.\n",
    "\n",
    "The results are shown with three decimal figures only.\n",
    "\n",
    "&nbsp;"
   ]
  },
  {
   "cell_type": "code",
   "execution_count": 2,
   "metadata": {},
   "outputs": [
    {
     "name": "stdout",
     "output_type": "stream",
     "text": [
      "\n"
     ]
    },
    {
     "data": {
      "application/vnd.jupyter.widget-view+json": {
       "model_id": "531f221254dd4bdb98d577d5487b60a8",
       "version_major": 2,
       "version_minor": 0
      },
      "text/plain": [
       "interactive(children=(FloatSlider(value=1.0, description='initial heigth $h$ (m)', max=10.0), Output()), _dom_…"
      ]
     },
     "metadata": {},
     "output_type": "display_data"
    },
    {
     "data": {
      "text/plain": [
       "<function __main__.calculate(h)>"
      ]
     },
     "execution_count": 2,
     "metadata": {},
     "output_type": "execute_result"
    }
   ],
   "source": [
    "import ipywidgets as widgets\n",
    "\n",
    "g = 9.81      #  m/s^2\n",
    "\n",
    "print()\n",
    "\n",
    "sliderDistance = (\n",
    "    widgets.FloatSlider(min = 0, max = 10, step = 0.1, \n",
    "                        value = 1, description = 'initial heigth $h$ (m)'))     # distance from the ground (m)\n",
    "\n",
    "def calculate(h):\n",
    "    Dt = (2*h/g)**0.5    # time of flight (s)\n",
    "    print('\\nTime of flight = {0:0.3f} s \\n'.format(Dt))\n",
    "    v = (2*g*h)**0.5\n",
    "    print('Impact speed =  {0:0.3f} m/s = {1:0.3f} km/h'.format(v, v*3.6))\n",
    "    print()\n",
    "       \n",
    "    \n",
    "widgets.interact(calculate, h = sliderDistance)"
   ]
  },
  {
   "cell_type": "markdown",
   "metadata": {},
   "source": [
    "> Following this link you can work in an interactive mode and you can run the Python codes in the **binder** environment online,\n",
    "\n",
    "[![Binder](https://mybinder.org/badge_logo.svg)](https://mybinder.org/v2/gh/POSS-UniMe/simple-physics-with-Python/HEAD)\n",
    "\n",
    "&nbsp;"
   ]
  },
  {
   "cell_type": "markdown",
   "metadata": {},
   "source": [
    "## Experiment\n",
    "\n",
    "An experimental verification of the laws concerning the free fall of bodies can be carried out if we use a smartphone as an instrument to measure the fall time. For instance, the App [phyphox](phyphox.org) has the **Acoustic stopwatch** function, that can be used for this kind of experiment. Two examples are described in a [YouTube video](https://youtu.be/zRGh9_a1J7s) available from the **phyphox** [web page](https://phyphox.org/experiment/free-fall-2/) dedicated to the study of freely falling objects.\n",
    "\n",
    "You can successfully carry out the experiment in a sufficiently silent room if you hold still a ping pong ball or a tennis ball, then let it fall freely and start the acoustic stopwatch with a sound of your voice or snapping your fingers.\n",
    "\n",
    "**Try it !**\n",
    "\n",
    "&nbsp;"
   ]
  },
  {
   "cell_type": "markdown",
   "metadata": {},
   "source": [
    "## What we have learned\n",
    "\n",
    "*Physics*\n",
    "\n",
    "* Calculate the fall time and the impact speed on the ground of a freely falling object using the equation of a motion with constant acceleration\n",
    "\n",
    "*Python*\n",
    "\n",
    "* Import and play a video within a notebook Jupyter\n",
    "\n",
    "\n",
    "## References and notes\n",
    "\n",
    "#### Video\n",
    "1. The original video **cadutaLibera.mp4** has been recorded with a smartphone Samsung S9 in *slow motion* mode, at 30 fps, with a resolution of 1080 x 1920 pixel. The video was then converted to a 400 x 710 resolution using the **Active Presenter** software.\n",
    "\n",
    "#### Video editing\n",
    "\n",
    "2. [How to trim a video](https://www.windowscentral.com/how-trim-video-using-photos-windows-10)\n",
    "\n",
    "3. [Creating videos](https://www.windowscentral.com/how-start-using-photos-video-editor-windows-10)\n",
    "\n",
    "#### Video in a Jupyter notebook\n",
    "\n",
    "4. [Catch things in motion](https://nbviewer.jupyter.org/github/engineersCode/EngComp3_tourdynamics/blob/master/notebooks_en/1_Catch_Motion.ipynb) \\[ from the course Engineering Computations\\]\n",
    "\n",
    "5. The *class* [IPython.display.video](https://ipython.readthedocs.io/en/stable/api/generated/IPython.display.html) \\[see in particular the **embed** parameter\\]\n",
    "\n",
    "&nbsp;\n",
    "\n",
    "### Copyright and License\n",
    "--------------------------\n",
    "(c) 2021 Andrea Mandanici, Giuseppe Mandaglio, Giovanni Pirrotta. All content is under Creative Common Attribution  <a rel=\"license\" href=\"https://creativecommons.org/licenses/by/4.0\" > CC BY 4.0 </a> \n",
    " and all code is under [BSD 3-Clause License](https://opensource.org/licenses/BSD-3-Clause). Notebook based on the [Italian version](https://github.com/POSS-UniMe/simple-physics-with-Python-ITA) (c) 2020 Andrea Mandanici, Marco Guarnera, Giuseppe Mandaglio, Giovanni Pirrotta: content under Creative Common Attribution CC BY 4.0, code under BSD 3-Clause License."
   ]
  },
  {
   "cell_type": "code",
   "execution_count": null,
   "metadata": {},
   "outputs": [],
   "source": []
  }
 ],
 "metadata": {
  "kernelspec": {
   "display_name": "Python 3",
   "language": "python",
   "name": "python3"
  },
  "language_info": {
   "codemirror_mode": {
    "name": "ipython",
    "version": 3
   },
   "file_extension": ".py",
   "mimetype": "text/x-python",
   "name": "python",
   "nbconvert_exporter": "python",
   "pygments_lexer": "ipython3",
   "version": "3.7.4"
  }
 },
 "nbformat": 4,
 "nbformat_minor": 2
}
