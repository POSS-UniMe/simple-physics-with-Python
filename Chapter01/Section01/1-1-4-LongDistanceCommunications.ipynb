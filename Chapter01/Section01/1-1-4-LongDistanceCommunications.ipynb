{
 "cells": [
  {
   "cell_type": "markdown",
   "metadata": {},
   "source": [
    "# Long distance communications\n",
    "\n",
    "Data transmission at long distances can be affected by a delay due to the time needed for the signal propagation, which occurs through electromagnetic waves. The speed of the electromagnetic waves in the vacuum space is \n",
    "\n",
    "$ c =2.99792458 \\cdot 10^{8}  \\text{m/s}  $  \n",
    "\n",
    "We want to evaluate approximately the time needed for transmitting a signal\n",
    "\n",
    "* from Earth to the International Space Station;\n",
    "* from Earth to Moon;\n",
    "* from Earth to the Mars planet.\n",
    "\n",
    "We also want to propose an answer for this question: \n",
    "* how much time needs the light to travel from the Sun to the Earth? \n",
    "\n",
    "&nbsp;\n",
    "\n",
    "![](img/Earth-from-ISS.jpg)\n",
    "\n",
    "### Discussion of the problem\n",
    "\n",
    "Based on the relation\n",
    "\n",
    "$$ \\Delta x = c \\Delta t $$\n",
    "\n",
    "the time needed for travelling a distance $\\Delta x$ at a constant speed $c$ is\n",
    "\n",
    "$$ \\Delta t = \\dfrac{\\Delta x}{c}$$\n",
    "\n",
    "### Calculations with Python\n",
    "\n",
    "In this example we want to use the equation for calculating the *time of flight* $\\Delta t$ with selected values of the distance $\\Delta x$, depending on the particular problem that we want to consider.\n",
    "\n",
    "\n",
    "Path   |   Distance (km)\n",
    "-----------|----------------\n",
    "Earth-ISS  |   400\n",
    "Earth-Moon |    384400\n",
    "Earth-Mars |   54600000\n",
    "Earth-Sun (1 au)  | 149597870.7\n",
    "\n",
    "&nbsp;\n",
    "\n",
    "In order to perform the choice of the value of the variable $\\Delta x$ among several possible options, we use a **widget** of the **Dropdown** type.\n",
    "\n",
    "In the table of distances and in the Dropdown menu, the values are shown in *kilometers*. For calculating the time of flight we consider a conversion to *meters*.\n",
    "\n",
    "The result of the calculation is shown with four decimal figures using **print** and **format**.\n",
    "\n",
    "&nbsp;\n"
   ]
  },
  {
   "cell_type": "code",
   "execution_count": 2,
   "metadata": {},
   "outputs": [
    {
     "name": "stdout",
     "output_type": "stream",
     "text": [
      "\n"
     ]
    },
    {
     "data": {
      "application/vnd.jupyter.widget-view+json": {
       "model_id": "324bbe167a4145e6a1ba5f96386e93f7",
       "version_major": 2,
       "version_minor": 0
      },
      "text/plain": [
       "interactive(children=(Dropdown(description='Distance:', options=(('Earth-ISS', 400), ('Earth-Moon', 384400), (…"
      ]
     },
     "metadata": {},
     "output_type": "display_data"
    },
    {
     "data": {
      "text/plain": [
       "<function __main__.calculate(Dx)>"
      ]
     },
     "execution_count": 2,
     "metadata": {},
     "output_type": "execute_result"
    }
   ],
   "source": [
    "import ipywidgets as widgets\n",
    "\n",
    "c = 2.99792458e8\n",
    "\n",
    "print()\n",
    "\n",
    "selectDistance = widgets.Dropdown( \n",
    "options=[('Earth-ISS', 400), ('Earth-Moon', 384400), ('Earh-Mars', 54600000), ('Earth-Sun',149597870.7)],\n",
    "    value=400,\n",
    "    description='Distance:',\n",
    ")\n",
    "\n",
    "def calculate(Dx):\n",
    "    print()\n",
    "    print('Distance =', Dx, 'km', '\\n')\n",
    "    Dt = Dx*1000 / c     \n",
    "    print('Delay =  {0:0.4f} s \\n'.format(Dt))\n",
    "        \n",
    "\n",
    "widgets.interact(calculate, Dx = selectDistance)"
   ]
  },
  {
   "cell_type": "markdown",
   "metadata": {},
   "source": [
    "&nbsp;\n",
    "<hr>\n",
    "\n",
    "> If you want to work in the interactive mode and run the Python code in the **binder** environment online,\n",
    "\n",
    "[![Binder](https://mybinder.org/badge_logo.svg)](https://mybinder.org/v2/gh/POSS-UniMe/simple-physics-with-Python/HEAD)\n",
    "\n",
    "<hr>\n",
    "&nbsp;\n",
    "\n",
    "\n",
    "## What we have learned\n",
    "\n",
    "*Jupyter*\n",
    "\n",
    "* Use a **Dropdown** menu for choosing the value of a variable among several possible options.\n",
    "* Create a **table** in Markdown language\n",
    "\n",
    "*Physics*\n",
    "\n",
    "* Obtain an estimate of the *technical times* needed for long-distance communications.\n",
    "\n",
    "&nbsp;\n"
   ]
  },
  {
   "cell_type": "markdown",
   "metadata": {},
   "source": [
    "## References\n",
    "\n",
    "1. [Where is the International Space Station](http://www.esa.int/Science_Exploration/Human_and_Robotic_Exploration/International_Space_Station/Where_is_the_International_Space_Station)\n",
    "\n",
    "2. [Mars close approach](https://mars.nasa.gov/all-about-mars/night-sky/close-approach/)\n",
    "\n",
    "3. [Earth-to-Sun distance](https://en.wikipedia.org/wiki/Astronomical_unit)\n",
    "\n",
    "#### Immagini\n",
    "4. @astro_luca [Luca Parmitano on Twitter ](https://twitter.com/astro_luca/status/1259506968617799684)\n",
    "\n",
    "    * See also [L'album di Parmitano, dalla Sicilia all'Australia: la 'sua' Terra vista dallo spazio](https://www.repubblica.it/scienze/2020/02/05/news/luca_parmitano_cartoline_dallo_spazio-247676704/) \n",
    "    \n",
    "&nbsp;\n",
    "\n",
    "### Copyright and License\n",
    "--------------------------\n",
    "(c) 2021 Andrea Mandanici, Giuseppe Mandaglio, Giovanni Pirrotta. All content is under Creative Common Attribution  <a rel=\"license\" href=\"https://creativecommons.org/licenses/by/4.0\">CC BY 4.0</a> \n",
    " and all code is under [BSD 3-Clause License](https://opensource.org/licenses/BSD-3-Clause). Notebook based on the [Italian version](https://github.com/POSS-UniMe/simple-physics-with-Python-ITA) (c) 2020 Andrea Mandanici, Marco Guarnera, Giuseppe Mandaglio, Giovanni Pirrotta: content under Creative Common Attribution CC BY 4.0, code under BSD 3-Clause License."
   ]
  },
  {
   "cell_type": "code",
   "execution_count": null,
   "metadata": {},
   "outputs": [],
   "source": []
  }
 ],
 "metadata": {
  "kernelspec": {
   "display_name": "Python 3",
   "language": "python",
   "name": "python3"
  },
  "language_info": {
   "codemirror_mode": {
    "name": "ipython",
    "version": 3
   },
   "file_extension": ".py",
   "mimetype": "text/x-python",
   "name": "python",
   "nbconvert_exporter": "python",
   "pygments_lexer": "ipython3",
   "version": "3.7.4"
  }
 },
 "nbformat": 4,
 "nbformat_minor": 2
}
