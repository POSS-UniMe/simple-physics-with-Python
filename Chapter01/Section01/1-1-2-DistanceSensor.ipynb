{
 "cells": [
  {
   "cell_type": "markdown",
   "metadata": {},
   "source": [
    "# Ultrasonic distance sensor\n",
    "\n",
    "An ultrasonic distance sensor can be used to prevent collisions. Cars produced recently are equipped with ultrasonic distance sensors that can detect obstacles, can signal possible collisions and can be used for assisted parking. \n",
    "\n",
    "![](img/SensoriKadjarFront.jpg)\n",
    "\n",
    "The ultrasonic sensor emits a pulse that propagates in air with constant speed for which we assume for instance the value $v = $ 336 m/s. The pulse travels till the obstacle, it undergoes a reflection, then the reflected pulse travels back until it reaches the sensor again.\n",
    "\n",
    "![](img/smallJeepAndSensor.jpg)\n",
    "\n",
    "**Example** If the distance between the sensor and the obstacle is equal to 3 m, calculate the duration of the time lapse beginning when the pulse is emitted and ending when the pulse, reflected by the obstacle, arrives back to the sensor.\n",
    "\n",
    "### Discussion of the example\n",
    "\n",
    "If $d$ is the distance between the sensor and the obstacle, the distance travelled by the ultrasonic pulse is  $\\Delta x = 2 d$.\n",
    "\n",
    "We assume that the ultrasonic pulse propagates with constant speed $v$. \n",
    "\n",
    "For a motion with constant speed, the relation between the distance travelled and the duration of the time lapse needed to travel (*time of flight*) is given by the equation\n",
    "\n",
    "$$v = \\dfrac{\\Delta x}{\\Delta t}$$\n",
    "\n",
    "In this case, we have \n",
    "\n",
    "$$\\Delta t = \\dfrac{\\Delta x}{v} = \\dfrac{2 d}{v}$$\n",
    "\n",
    "\n",
    "### Calculations with Python\n",
    "\n"
   ]
  },
  {
   "cell_type": "code",
   "execution_count": 5,
   "metadata": {},
   "outputs": [
    {
     "name": "stdout",
     "output_type": "stream",
     "text": [
      "\n",
      "Distance sensor-to-obstacle =  3 m \n",
      "\n",
      "Time of flight = 17.857 ms\n",
      "\n"
     ]
    }
   ],
   "source": [
    "v = 336   # speed of propagation (m/s)\n",
    "d = 3     # distance sensor to obstacle (m)\n",
    "Dt = 2 * d / v     # time of flight (s)\n",
    "\n",
    "print()\n",
    "print('Distance sensor-to-obstacle = ', d, 'm', '\\n')\n",
    "print('Time of flight = {0:0.3f} ms'.format(Dt*1000))\n",
    "print()"
   ]
  },
  {
   "cell_type": "markdown",
   "metadata": {},
   "source": [
    "> For running the Python scripts contained in this Jupyter **notebook** even if Python and Jupyter are not installed on your device, you can use the **binder** environment online\n",
    "\n",
    "[![Binder](https://mybinder.org/badge_logo.svg)](https://mybinder.org/v2/gh/POSS-UniMe/simple-physics-with-Python-ITA/master?filepath=notebook%2F1-1-2-SensoreDistanza.ipynb)\n",
    "\n",
    "&nbsp;"
   ]
  },
  {
   "cell_type": "markdown",
   "metadata": {},
   "source": [
    "### Calculations in interactive mode\n",
    "\n",
    "We consider in particular th ultrasonic distance sensor **HC-SR04**. According to the technical specifications, this sensor operates in the range between 2 cm and 5 m.\n",
    "\n",
    "![](img/ultrasonicSensorSmall.jpg)\n",
    "\n",
    "Using a **slider** we can calculate the *time of flight* of the ultrasonic pulse for whichever chosen distance in the working range of the device. "
   ]
  },
  {
   "cell_type": "code",
   "execution_count": 6,
   "metadata": {},
   "outputs": [
    {
     "name": "stdout",
     "output_type": "stream",
     "text": [
      "\n",
      " Distance (cm)\n"
     ]
    },
    {
     "data": {
      "application/vnd.jupyter.widget-view+json": {
       "model_id": "7a3b0c44bdc0448488f5289cc0947fae",
       "version_major": 2,
       "version_minor": 0
      },
      "text/plain": [
       "interactive(children=(FloatSlider(value=300.0, description='d', max=500.0, min=2.0), Output()), _dom_classes=(…"
      ]
     },
     "metadata": {},
     "output_type": "display_data"
    },
    {
     "data": {
      "text/plain": [
       "<function __main__.calculate(d)>"
      ]
     },
     "execution_count": 6,
     "metadata": {},
     "output_type": "execute_result"
    }
   ],
   "source": [
    "from ipywidgets import interact\n",
    "import ipywidgets as widgets\n",
    "\n",
    "v = 336     # speed of propagation (m/s)\n",
    "\n",
    "print('\\n','Distance (cm)')\n",
    "\n",
    "sliderDistance = (widgets.FloatSlider(min = 2, max = 500, step = 0.1, value = 300))     # distance (cm)\n",
    "\n",
    "def calculate(d):\n",
    "    Dt = 2 * (d/100.)/ v     # time of flight (s)\n",
    "    print ('\\n','Time of flight {0:0.3f} ms \\n'.format(Dt*1000));\n",
    "    \n",
    "widgets.interact(calculate, d = sliderDistance)"
   ]
  },
  {
   "cell_type": "markdown",
   "metadata": {},
   "source": [
    "> For running the Python code contained in this Notebook you can use the following link to the **binder** environment online\n",
    "\n",
    "[![Binder](https://mybinder.org/badge_logo.svg)](https://mybinder.org/v2/gh/POSS-UniMe/simple-physics-with-Python-ITA/master?filepath=notebook%2F1-1-2-SensoreDistanza.ipynb)"
   ]
  },
  {
   "cell_type": "markdown",
   "metadata": {},
   "source": [
    "## What we have learned\n",
    "* Working principle of the distance sensors.\n",
    "\n",
    "## References and notes\n",
    "#### Ultrasonic sensor\n",
    "1. [Experiments and data analysis on one-dimensional motion with **Raspberry Pi** and **Python**](https://iopscience.iop.org/article/10.1088/1361-6552/ab73d2) (see also Supplementary Information)\n",
    "2. The sensors shown in the first image are of the kind 284425707R\n",
    "\n",
    "#### Images\n",
    "3. Original pictures acquired with the Samsung S9 smartphone and modified with Microsoft Paint 3D\n",
    "\n",
    "&nbsp;\n",
    "\n",
    "### Copyright and License\n",
    "--------------------------\n",
    "(c) 2021 Andrea Mandanici, Giuseppe Mandaglio, Giovanni Pirrotta. All content is under Creative Common Attribution  <a rel=\"license\" href=\"https://creativecommons.org/licenses/by/4.0\">CC BY 4.0</a> \n",
    " and all code is under [BSD 3-Clause License](https://opensource.org/licenses/BSD-3-Clause). Notebook based on the [Italian version](https://github.com/POSS-UniMe/simple-physics-with-Python-ITA) (c) 2020 Andrea Mandanici, Marco Guarnera, Giuseppe Mandaglio, Giovanni Pirrotta: content under Creative Common Attribution CC BY 4.0, code under BSD 3-Clause License."
   ]
  },
  {
   "cell_type": "code",
   "execution_count": null,
   "metadata": {},
   "outputs": [],
   "source": []
  }
 ],
 "metadata": {
  "kernelspec": {
   "display_name": "Python 3",
   "language": "python",
   "name": "python3"
  },
  "language_info": {
   "codemirror_mode": {
    "name": "ipython",
    "version": 3
   },
   "file_extension": ".py",
   "mimetype": "text/x-python",
   "name": "python",
   "nbconvert_exporter": "python",
   "pygments_lexer": "ipython3",
   "version": "3.7.4"
  }
 },
 "nbformat": 4,
 "nbformat_minor": 2
}
