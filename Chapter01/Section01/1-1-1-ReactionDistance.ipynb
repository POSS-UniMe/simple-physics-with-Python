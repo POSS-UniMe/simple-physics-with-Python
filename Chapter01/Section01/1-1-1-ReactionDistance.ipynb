{
 "cells": [
  {
   "cell_type": "markdown",
   "metadata": {},
   "source": [
    "# Reaction space, reaction time\n",
    "\n",
    "**Reaction time** is the duration of the time lapse which begins when the pilot of a vehicle receives a visual stimulus or an audio stimulus, and ends when he starts an emergency action such as breaking suddenly. \n",
    "\n",
    "![](img/fiat500-running.jpg)\n",
    "\n",
    "**Reaction distance** is the distance travelled by the vehicle during the reaction time.\n",
    "\n",
    "*Problem* Assuming that a vehicle is moving with constant speed  $v$, calculate the reaction distance which corresponds to a reaction time of 300 ms, if the speed is $v =$ 36 km/h.\n",
    "\n",
    "### Discussion of the problem\n",
    "* In Italy the allowed speed of a vehicle has usually values\n",
    "    * between 0 and 50 km/h in urban areas\n",
    "    * between 80 e 130 km/h in the highways\n",
    "\n",
    "* We need to convert the value from one unit of measurement to another, namely from km/h to m/s\n",
    "\n",
    "$$v \\left[\\dfrac{km}{h}\\right] \\cdot \\dfrac{1}{3.6} = v \\left[\\dfrac{m}{s}\\right]$$\n",
    "\n",
    "* The constant speed of the vehicle is \n",
    "\n",
    "$$v = \\dfrac{\\Delta x}{\\Delta t}$$\n",
    "\n",
    "* If $\\Delta t$ is the **reaction time**, then the **reaction distance** is given by\n",
    "\n",
    "$$ \\Delta x = v \\Delta t $$\n",
    "\n",
    "&nbsp;"
   ]
  },
  {
   "cell_type": "markdown",
   "metadata": {},
   "source": [
    "### Calculations with Python"
   ]
  },
  {
   "cell_type": "code",
   "execution_count": 1,
   "metadata": {},
   "outputs": [
    {
     "name": "stdout",
     "output_type": "stream",
     "text": [
      "\n",
      "Speed =  10.0 m/s \n",
      "\n"
     ]
    }
   ],
   "source": [
    "speed = 36   # km/h\n",
    "v = speed / 3.6   # m/s\n",
    "print()\n",
    "print('Speed = ', v, 'm/s', '\\n')"
   ]
  },
  {
   "cell_type": "code",
   "execution_count": 2,
   "metadata": {},
   "outputs": [
    {
     "name": "stdout",
     "output_type": "stream",
     "text": [
      "\n",
      " Reaction distance =  3.0 m \n",
      "\n"
     ]
    }
   ],
   "source": [
    "Dt = 0.300  # 300 ms, reaction time\n",
    "Dx = v * Dt   # reaction distance\n",
    "print ('\\n','Reaction distance = ', Dx, 'm', '\\n')"
   ]
  },
  {
   "cell_type": "markdown",
   "metadata": {},
   "source": [
    "> For running the Python scripts contained in this Jupyter **notebook** even if Python and Jupyter are not installed on your device, you can use the **binder** environment online\n",
    "\n",
    "[![Binder](https://mybinder.org/badge_logo.svg)](https://mybinder.org/v2/gh/POSS-UniMe/simple-physics-with-Python/HEAD)\n",
    "\n"
   ]
  },
  {
   "cell_type": "markdown",
   "metadata": {},
   "source": [
    "### Calculations in interactive mode\n",
    "We want to estimate how the reaction distance changes if we consider a different value of the constant speed at which the vehicle is travelling. \n",
    "We want also evaluate how much the reaction distance depends on the reaction time of the driver.\n",
    "\n",
    "In order to select a value of a variable within a given range we are going to use a **slider** associated with the variable. The value of the reaction distance will be updated as soon we change the value of the variable associated with the slider."
   ]
  },
  {
   "cell_type": "code",
   "execution_count": 3,
   "metadata": {},
   "outputs": [
    {
     "name": "stdout",
     "output_type": "stream",
     "text": [
      "\n"
     ]
    },
    {
     "data": {
      "application/vnd.jupyter.widget-view+json": {
       "model_id": "74c3fa816f0d475a9da6cfabb9aef1e9",
       "version_major": 2,
       "version_minor": 0
      },
      "text/plain": [
       "interactive(children=(FloatSlider(value=0.3, description='Dt', max=0.5, min=0.2, step=0.05), FloatSlider(value…"
      ]
     },
     "metadata": {},
     "output_type": "display_data"
    },
    {
     "data": {
      "text/plain": [
       "<function __main__.calculate(Dt, speed)>"
      ]
     },
     "execution_count": 3,
     "metadata": {},
     "output_type": "execute_result"
    }
   ],
   "source": [
    "import ipywidgets as widgets\n",
    "\n",
    "print()\n",
    "\n",
    "sliderTime = widgets.FloatSlider(min = 0.200, max = 0.500, step = 0.050, value = 0.300)\n",
    "\n",
    "sliderSpeed = widgets.FloatSlider(min = 0, max = 130, step = 1.0, value = 36)\n",
    "\n",
    "def calculate(Dt, speed):\n",
    "    v = speed / 3.6   # m/s\n",
    "    print('\\n','Speed = ', v, 'm/s', '\\n')\n",
    "    Dx = v * Dt   # spazio di reazione\n",
    "    print ('Reaction distance = ', Dx, 'm', '\\n');\n",
    "        \n",
    "widgets.interact(calculate, Dt = sliderTime, speed=sliderSpeed)\n"
   ]
  },
  {
   "cell_type": "markdown",
   "metadata": {},
   "source": [
    "### A refined version\n",
    "The results could be more readable if we specity a suitable format for printing ([4](https://physics.nyu.edu/pine/pymanual/html/chap4/chap4_io.html#file-input), [5](https://docs.python.org/3/library/string.html#formatspec)). \n",
    "\n",
    "In particular, we choose a format so that the calculated value of the speed will be shown with one decimal figure only, and the calculated value of the reaction space will be shown with two decimal figures only. This aim is achieved using the function **print()** and the method **str.format()**.\n",
    "\n",
    "Moreover, we want specify what are the variables controlled through the sliders. This is made using the feature **description**, which also allows to write equations in $\\LaTeX$."
   ]
  },
  {
   "cell_type": "code",
   "execution_count": 4,
   "metadata": {},
   "outputs": [
    {
     "name": "stdout",
     "output_type": "stream",
     "text": [
      "\n"
     ]
    },
    {
     "data": {
      "application/vnd.jupyter.widget-view+json": {
       "model_id": "8c94b47132bc46b49de101858cb9ac43",
       "version_major": 2,
       "version_minor": 0
      },
      "text/plain": [
       "interactive(children=(FloatSlider(value=0.3, description='Reaction time $\\\\Delta t$ (s)', max=0.5, min=0.2, st…"
      ]
     },
     "metadata": {},
     "output_type": "display_data"
    },
    {
     "data": {
      "text/plain": [
       "<function __main__.calculate(Dt, speed)>"
      ]
     },
     "execution_count": 4,
     "metadata": {},
     "output_type": "execute_result"
    }
   ],
   "source": [
    "import ipywidgets as widgets\n",
    "style = {'description_width':'initial'}\n",
    "sliderTime = widgets.FloatSlider(min = 0.200, max = 0.500, step = 0.050, value = 0.300,\n",
    "                                 description ='Reaction time '+r'$\\Delta t$'+' (s)', style = style)\n",
    "sliderSpeed = widgets.FloatSlider(min = 0, max = 130, step = 1.0, value = 36,\n",
    "                                 description ='Speed (km/h)', style = style)\n",
    "print()\n",
    "\n",
    "def calculate(Dt, speed):\n",
    "    v = speed / 3.6   # m/s\n",
    "    print('\\n','Speed = {0:0.1f} m/s  \\n'.format(v))\n",
    "    Dx = v * Dt   # spazio di reazione\n",
    "    print('Reaction distance = {0:0.02f} m \\n'.format(Dx))\n",
    "widgets.interact(calculate, Dt = sliderTime, speed=sliderSpeed)"
   ]
  },
  {
   "cell_type": "markdown",
   "metadata": {},
   "source": [
    "&nbsp;\n",
    "\n",
    "## What we have learned\n",
    "*Python*\n",
    "* Use Jupyter as worksheet that includes\n",
    "    * text in Markdown language \n",
    "    * Python code\n",
    "    * changing easily the values of the physical variables\n",
    "    * and working in a fast interactive mode with **sliders**.\n",
    "    \n",
    "*Physics*\n",
    "* Simple applications of the equation for the motion with constant speed along a straight line."
   ]
  },
  {
   "cell_type": "markdown",
   "metadata": {},
   "source": [
    "## References and notes\n",
    "\n",
    "#### Simple calculations with Python\n",
    "\n",
    "* 1.[Introduction to Python for Science](https://physics.nyu.edu/pine/pymanual/html/pymanMaster.html)\n",
    "\n",
    "* 2.[Engineering Computations](https://github.com/engineersCode/EngComp) (see Module 1. Get data off the ground -- Learn to interact with Python and handle data with Python.\n",
    "\n",
    "* 3.[A quick intro to numerical programming in Python](https://github.com/barbagroup/AeroPython) (see Module 0. Quick Python Intro).\n",
    "\n",
    "\n",
    "#### Widgets\n",
    "\n",
    "* 4.[Jupyter Widgets documentation](https://ipywidgets.readthedocs.io/en/latest/)\n",
    "* 5.[Layout and Styling of Jupyter widgets](https://ipywidgets.readthedocs.io/en/latest/examples/Widget%20Styling.html#Description)\n",
    "\n",
    "#### Printing with a format\n",
    "* 6.[Input Output. Python documentation](https://docs.python.org/3/tutorial/inputoutput.html)\n",
    "\n",
    "\n",
    "#### Images\n",
    "* 7.Original picture *'fiat500-running.jpg'* realized with a Samsung S9 smartphone\n",
    "\n",
    "#### Software resources\n",
    "* 8.[**binder**](https://mybinder.org) For opening the notebooks in an executable environment\n",
    "\n",
    "&nbsp;\n",
    "\n",
    "### Copyright and License\n",
    "--------------------------\n",
    "(c) 2021 Andrea Mandanici, Giuseppe Mandaglio, Giovanni Pirrotta. All content is under Creative Common Attribution  <a rel=\"license\" href=\"https://creativecommons.org/licenses/by/4.0\"> CC BY 4.0 </a> \n",
    " and all code is under [BSD 3-Clause License](https://opensource.org/licenses/BSD-3-Clause). Notebook based on the [Italian version](https://github.com/POSS-UniMe/simple-physics-with-Python-ITA) (c) 2020 Andrea Mandanici, Marco Guarnera, Giuseppe Mandaglio, Giovanni Pirrotta: content under Creative Common Attribution CC BY 4.0, code under BSD 3-Clause License."
   ]
  },
  {
   "cell_type": "code",
   "execution_count": null,
   "metadata": {},
   "outputs": [],
   "source": []
  }
 ],
 "metadata": {
  "kernelspec": {
   "display_name": "Python 3",
   "language": "python",
   "name": "python3"
  },
  "language_info": {
   "codemirror_mode": {
    "name": "ipython",
    "version": 3
   },
   "file_extension": ".py",
   "mimetype": "text/x-python",
   "name": "python",
   "nbconvert_exporter": "python",
   "pygments_lexer": "ipython3",
   "version": "3.7.4"
  }
 },
 "nbformat": 4,
 "nbformat_minor": 2
}
