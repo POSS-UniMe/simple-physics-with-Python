{
 "cells": [
  {
   "cell_type": "markdown",
   "metadata": {},
   "source": [
    "# Earth-to-Moon distance\n",
    "\n",
    "The visible light and the electromagnetic waves propagate in the vacuum with constant speed \n",
    "\n",
    "$c = 2.99792458 \\cdot 10^{8}$ m/s.\n",
    "\n",
    "This information can be exploited for calculating the Earth-to-Moon distance.\n",
    "\n",
    "* Reflectors of a special kind, named Corner Cube Retroreflectors, were placed on Moon's surface during several space missions (Apollo 11, 14, 15; Luna 21) .\n",
    "    \n",
    "![](img/moon_annotate.jpg)\n",
    "\n",
    "![](img/crn_cbe.JPG)\n",
    "    \n",
    "![](img/a14.jpg)"
   ]
  },
  {
   "cell_type": "markdown",
   "metadata": {},
   "source": [
    "### Example\n",
    "\n",
    "Calculate the Earth-to-Moon distance, knowing that the time needed for a light pulse to travel from Earth to Moon and back to Earth's surface is \n",
    "\n",
    "* (a)   2.34 s\n",
    "* (b)   2.71 s\n",
    "\n",
    "### Discussion of the example\n",
    "\n",
    "Since the speed of propagation $c$ is known and the duration of the time interval $\\Delta t$ is also known, we can evaluate the travelled distance $\\Delta x$ using the relation\n",
    "\n",
    "$$\\Delta x = c \\Delta t$$\n",
    "\n",
    "The travelled distance $\\Delta x$ corresponds to the travel from Earth to Moon and viceversa. Thus the travelle distnce is twice the distance $d$ between the Earth and the Moon.\n",
    "\n",
    "$$\\Delta x = 2 d$$\n",
    "\n",
    "The Earth-to-Moon distance is then obtained as \n",
    "\n",
    "$$d = \\dfrac{1}{2} \\Delta x = \\dfrac{1}{2} c \\Delta t$$\n",
    "\n",
    "\n",
    "### Get a feel of\n",
    "\n",
    "* For comparison, the Earth's **diameter**, if planet Earth is considered as a perfect sphere, is \n",
    "12745 km"
   ]
  },
  {
   "cell_type": "markdown",
   "metadata": {},
   "source": [
    "### Calculation with Python"
   ]
  },
  {
   "cell_type": "code",
   "execution_count": 1,
   "metadata": {},
   "outputs": [
    {
     "data": {
      "application/vnd.jupyter.widget-view+json": {
       "model_id": "484e58a0b0ba4bb1bf86faa66278e788",
       "version_major": 2,
       "version_minor": 0
      },
      "text/plain": [
       "interactive(children=(Dropdown(description='Dt', options=(2.34, 2.71), value=2.34), Output()), _dom_classes=('…"
      ]
     },
     "metadata": {},
     "output_type": "display_data"
    },
    {
     "data": {
      "text/plain": [
       "<function __main__.selectTime(Dt)>"
      ]
     },
     "execution_count": 1,
     "metadata": {},
     "output_type": "execute_result"
    }
   ],
   "source": [
    "import ipywidgets as widgets\n",
    "\n",
    "c = 2.99792458e8\n",
    "\n",
    "def selectTime(Dt):\n",
    "    print('Time of flight =', Dt, 's', '\\n')\n",
    "    d = 0.5 * c * Dt / 1000.     \n",
    "    print('distance Earth_to_Moon = {0:0.3f} km  \\n'.format(d))\n",
    "    print('distance/Earth_diameter = {0:0.3f}'.format(d/12745))\n",
    "    \n",
    " \n",
    "widgets.interact(selectTime, Dt = [2.34, 2.71])\n",
    "\n"
   ]
  },
  {
   "cell_type": "markdown",
   "metadata": {},
   "source": [
    "&nbsp;\n",
    "<hr>\n",
    "\n",
    "> If you want to run the Python code in the **binder** environment online,\n",
    "\n",
    "[![Binder](https://mybinder.org/badge_logo.svg)](https://mybinder.org/v2/gh/POSS-UniMe/simple-physics-with-Python/HEAD)\n",
    "\n",
    "<hr>\n",
    "&nbsp;"
   ]
  },
  {
   "cell_type": "markdown",
   "metadata": {},
   "source": [
    "## What we have learned\n",
    "*Python*\n",
    "* Use of a widget for choosing the value of a variable among various options available.\n",
    "\n",
    "*Physics*\n",
    "* Applications of the model of a particle moving with constant speed along a linear trajectory.\n"
   ]
  },
  {
   "cell_type": "markdown",
   "metadata": {},
   "source": [
    "## References and notes\n",
    "#### Earth-to-Moon Distance\n",
    "1. [The Apollo initiative](http://tmurphy.physics.ucsd.edu/apollo/apollo.html)\n",
    "2. [Earth-to-Moon distance measurement](http://tmurphy.physics.ucsd.edu/apollo/basics.html)\n",
    "\n",
    "#### Widgets\n",
    "3. [Using widgets in Jupyter notebooks](https://kapernikov.com/ipywidgets-with-matplotlib/)\n",
    "\n",
    "#### Images\n",
    "4. The images shown are from the web page [Lunar retroreflectors](https://tmurphy.physics.ucsd.edu/apollo/lrrr.html) - University of California San Diego.\n",
    "\n",
    "&nbsp;\n",
    "\n",
    "### Copyright and License\n",
    "--------------------------\n",
    "(c) 2021 Andrea Mandanici, Giuseppe Mandaglio, Giovanni Pirrotta. All content is under Creative Common Attribution  <a rel=\"license\" href=\"https://creativecommons.org/licenses/by/4.0\">CC BY 4.0</a> \n",
    " and all code is under [BSD 3-Clause License](https://opensource.org/licenses/BSD-3-Clause). Notebook based on the [Italian version](https://github.com/POSS-UniMe/simple-physics-with-Python-ITA) (c) 2020 Andrea Mandanici, Marco Guarnera, Giuseppe Mandaglio, Giovanni Pirrotta: content under Creative Common Attribution CC BY 4.0, code under BSD 3-Clause License."
   ]
  },
  {
   "cell_type": "code",
   "execution_count": null,
   "metadata": {},
   "outputs": [],
   "source": []
  }
 ],
 "metadata": {
  "kernelspec": {
   "display_name": "Python 3",
   "language": "python",
   "name": "python3"
  },
  "language_info": {
   "codemirror_mode": {
    "name": "ipython",
    "version": 3
   },
   "file_extension": ".py",
   "mimetype": "text/x-python",
   "name": "python",
   "nbconvert_exporter": "python",
   "pygments_lexer": "ipython3",
   "version": "3.7.4"
  }
 },
 "nbformat": 4,
 "nbformat_minor": 2
}
