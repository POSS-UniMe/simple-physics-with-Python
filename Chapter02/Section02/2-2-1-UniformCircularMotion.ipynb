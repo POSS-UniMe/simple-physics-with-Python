{
 "cells": [
  {
   "cell_type": "markdown",
   "metadata": {},
   "source": [
    "# Uniform circular motion\n",
    "\n",
    "### Become familiar with circular motion\n",
    "\n",
    "A particle moves in a circle at a constant speed (**uniform circular motion**). \n",
    "* For a given value of the rotational speed, such as for instance 60 **rpm** (revolutions per minute), we want to calculate:\n",
    "    * the rate of rotation, measured in **hertz**, i.e. the number of rotations per second,\n",
    "    * the period of rotation, measured in seconds, i.e. the amount of time needed to perform a complete round along the circular path.\n",
    "* We want to calculate also the **angular velocity**, measured either in\n",
    "    * degrees per second\n",
    "  or in  \n",
    "    * radians per second.\n",
    "    \n",
    "![](img/annotatedCyclette.jpg)\n",
    "\n",
    "* Given the value of the radius, suppose 0.165 m, we want to calculate the **linear speed**, measured in $m/s$\n",
    "* We want to calculate also the intensity of the **centripetal acceleration**, measured in $m/s^2$\n",
    "\n",
    "&nbsp;\n",
    "\n",
    "## Discussion of the problem\n",
    "\n",
    "#### Rotational speed\n",
    "The rotational speed of an engine in some cases is measured in revolutions per minute (rpm), as we can see for instance from the instrument panel of a car.\n",
    "\n",
    "![](img/smallPanel.jpg)\n",
    "\n",
    "#### Frequency or rotation rate\n",
    "If we want to measure the **rotation rate** in cycles per second, or revolutions per second, considering that \n",
    "\n",
    "<div class=\"alert alert-block alert-info\">\n",
    "    1 <strong>min</strong> = 60 <strong>s</strong>\n",
    "</div>\n",
    "\n",
    "we have\n",
    "\n",
    "<div class=\"alert alert-block alert-info\">\n",
    "    rotation rate (<b>cycles/s</b>) = [rotation rate (<b>rpm</b>)] / 60 \n",
    "</div>\n",
    "\n",
    "&nbsp;\n",
    "\n",
    "It should be underlined that 1 <b> cycle/s</b> = 1 <b>Hz</b>\n",
    "\n",
    "&nbsp;\n",
    "\n",
    "#### Period\n",
    "The **period** of the rotation,  **T**, can be obtained as the reciprocal of the rotation rate\n",
    "\n",
    "<div class=\"alert alert-block alert-info\">\n",
    "    <p style=\"text-align: center;\">\n",
    "        T = 1 / f\n",
    "    </p>\n",
    "</div>\n",
    "\n",
    "&nbsp;\n",
    "\n",
    "#### Angular velocity\n",
    "From the rate of rotation we can evaluate the **angular velocity**, measured in degrees per second, if we consider that a complete cycle along the circumference corresponds to an angular displacement of 360 degrees. Thus, \n",
    "\n",
    "<div class=\"alert alert-block alert-info\">\n",
    "    <p style=\"text-align: center;\">\n",
    "        f (<b>cycle/s</b>) &sdot; 360 (<b>deg</b>) = &omega; (<b>deg/s</b>)  \n",
    "    </p>\n",
    "</div>\n",
    "\n",
    "Similarly, if we consider that a complete cycle around the circumference correspons to an angle of 2 $\\pi$ radians, it follows that\n",
    "\n",
    "<div class=\"alert alert-block alert-info\">\n",
    "    <p style=\"text-align: center;\">\n",
    "        f (<b>cycle/s</b>) &sdot; 2 &pi; (<b>rad</b>) = &omega; (<b>rad/s</b>)\n",
    "    </p>\n",
    "</div>\n",
    "\n",
    "&nbsp;\n",
    "\n",
    "\n",
    "#### Linear speed\n",
    "The linear speed of a particle moving on a circular path is related to the angular velocity, measured in **rad/s**, through the equation\n",
    "\n",
    "<div class=\"alert alert-block alert-info\">\n",
    "    <p style=\"text-align: center;\">v  = &omega; &sdot; r\n",
    "    </p>\n",
    "</div>\n",
    "\n",
    "where **r** is the value of the radius of the circumference. If **r** is measured in meters, from the equation we obtain the linear speed measured in m/s.\n",
    "\n",
    "#### Centripetal acceleration\n",
    "If a particle moves at constant speed along a circular trajectory  (**uniform circular motion**), the acceleration vector is along the radius, and it is always directed towards the center of the circle. The magnitude of the centripetal acceleration can be calculated as\n",
    "\n",
    "<div class=\"alert alert-block alert-success\">\n",
    "    <p style=\"text-align: center;\"> a<sub>c</sub> = v<sup>2</sup> / r </p>\n",
    "</div>\n",
    "and also as\n",
    "<div class=\"alert alert-block alert-success\">\n",
    "    <p style=\"text-align: center;\"> a<sub>c</sub> = &omega;<sup>2</sup> &sdot; r </p>\n",
    "</div>\n"
   ]
  },
  {
   "cell_type": "markdown",
   "metadata": {},
   "source": [
    "## Calculations with Python\n",
    "\n",
    "In the following Python code we compute the values of several variables related to the uniform circular motion and we show the results as Markdown text, or as a Markdown table, or as a HTML table.\n"
   ]
  },
  {
   "cell_type": "code",
   "execution_count": 1,
   "metadata": {},
   "outputs": [
    {
     "name": "stdout",
     "output_type": "stream",
     "text": [
      "\n"
     ]
    },
    {
     "data": {
      "text/markdown": [
       "#### Results as Markdown text"
      ],
      "text/plain": [
       "<IPython.core.display.Markdown object>"
      ]
     },
     "metadata": {},
     "output_type": "display_data"
    },
    {
     "data": {
      "text/markdown": [
       "<br> Rotation speed <br> *f*<sub>rpm</sub> = 60 rpm"
      ],
      "text/plain": [
       "<IPython.core.display.Markdown object>"
      ]
     },
     "metadata": {},
     "output_type": "display_data"
    },
    {
     "data": {
      "text/markdown": [
       "Radius <br> *r* =  0.165 m"
      ],
      "text/plain": [
       "<IPython.core.display.Markdown object>"
      ]
     },
     "metadata": {},
     "output_type": "display_data"
    },
    {
     "data": {
      "text/markdown": [
       "Frequency <br> *f* =  1.0 Hz"
      ],
      "text/plain": [
       "<IPython.core.display.Markdown object>"
      ]
     },
     "metadata": {},
     "output_type": "display_data"
    },
    {
     "data": {
      "text/markdown": [
       "Period <br>  *T* = 1.0 s"
      ],
      "text/plain": [
       "<IPython.core.display.Markdown object>"
      ]
     },
     "metadata": {},
     "output_type": "display_data"
    },
    {
     "data": {
      "text/markdown": [
       "Angular speed <br> &omega; = 6.283185307179586 rad/s"
      ],
      "text/plain": [
       "<IPython.core.display.Markdown object>"
      ]
     },
     "metadata": {},
     "output_type": "display_data"
    },
    {
     "data": {
      "text/markdown": [
       "Angular speed <br> &omega;<sub>deg</sub> = 360.0 deg/s"
      ],
      "text/plain": [
       "<IPython.core.display.Markdown object>"
      ]
     },
     "metadata": {},
     "output_type": "display_data"
    },
    {
     "data": {
      "text/markdown": [
       "Linear speed <br> v = 1.0367255756846319 m/s"
      ],
      "text/plain": [
       "<IPython.core.display.Markdown object>"
      ]
     },
     "metadata": {},
     "output_type": "display_data"
    },
    {
     "data": {
      "text/markdown": [
       "Acceleration <br> a<sub>c</sub> = 6.513938904718977 m/s<sup>2</sup>"
      ],
      "text/plain": [
       "<IPython.core.display.Markdown object>"
      ]
     },
     "metadata": {},
     "output_type": "display_data"
    },
    {
     "name": "stdout",
     "output_type": "stream",
     "text": [
      "\n"
     ]
    },
    {
     "data": {
      "text/markdown": [
       "#### Results as a Markdown table"
      ],
      "text/plain": [
       "<IPython.core.display.Markdown object>"
      ]
     },
     "metadata": {},
     "output_type": "display_data"
    },
    {
     "data": {
      "text/markdown": [
       "\n",
       "|variable|symbol|value|unit|\n",
       "|-------|:-:|-----|:-:|\n",
       "|Rotation speed| f<sub>rpm</sub> | 60|rpm |\n",
       "|Radius| r | 0.165 | m|\n",
       "| Frequency | f | 1.000 | Hz |\n",
       "| Period | T | 1.000 | s |\n",
       "| Angular speed | &omega;| 6.283 | rad/s |\n",
       "| Angular speed | &omega;<sub>deg</sub> | 360.000 | deg/s |\n",
       "| Linear speed | v | 1.037 | m/s |\n",
       "| Acceleration | a<sub>c</sub> | 6.514 |  m/s<sup>2</sup> | \n"
      ],
      "text/plain": [
       "<IPython.core.display.Markdown object>"
      ]
     },
     "metadata": {},
     "output_type": "display_data"
    },
    {
     "name": "stdout",
     "output_type": "stream",
     "text": [
      "\n"
     ]
    },
    {
     "data": {
      "text/markdown": [
       "#### Results as an HTML table"
      ],
      "text/plain": [
       "<IPython.core.display.Markdown object>"
      ]
     },
     "metadata": {},
     "output_type": "display_data"
    },
    {
     "data": {
      "text/markdown": [
       "<table style=\"border:1px solid green;margin-left:auto;margin-right:auto;padding:2px;border-spacing:20px;\" ><tbody><tr><td>Rotation speed</td><td>f<sub>rpm</sub></td><td>60</td><td> rpm</td></tr><tr><td>Radius</td><td>r</td><td>0.165</td><td>m</td></tr><td>Frequency</td><td>f</td><td>1.0</td><td>Hz</td></tr><td>Period</td><td>T</td><td>1.0</td><td>s</td></tr><td>Angular speed</td><td>&omega;</td><td>6.283185307179586</td><td>rad/s</td></tr><td>Angular speed</td><td>&omega;<sub>deg</sub></td><td>360.0</td><td>deg/s</td></tr><td>Linear speed</td><td>v</td><td>1.0367255756846319</td><td>m/s</td></tr><td>Acceleration</td><td>a<sub>c</sub></td><td>6.513938904718977</td><td>m/s<sup>2</sup></td></tr></tbody></table>"
      ],
      "text/plain": [
       "<IPython.core.display.Markdown object>"
      ]
     },
     "metadata": {},
     "output_type": "display_data"
    },
    {
     "name": "stdout",
     "output_type": "stream",
     "text": [
      "\n"
     ]
    }
   ],
   "source": [
    "import numpy as np\n",
    "from IPython.display import display, Markdown\n",
    "\n",
    "def printmd(string):\n",
    "    display(Markdown(string))\n",
    "\n",
    "    \n",
    "speed_rpm = 60        # rotation speed (rpm)\n",
    "\n",
    "r = 0.165             # radius  r  (m)\n",
    "\n",
    "f = speed_rpm / 60        # frequency (Hz)\n",
    "\n",
    "T = 1/f                   # period (s)\n",
    "\n",
    "omega = 2 * np.pi * f     # angular speed (rad/s)\n",
    "\n",
    "omega_deg = 360 * f       # angular speed in  degrees/second\n",
    "\n",
    "v = omega * r             # linear speed\n",
    "\n",
    "a = omega * omega * r     # acceleration\n",
    "\n",
    "print()\n",
    "\n",
    "# display the results as Markdown text\n",
    "\n",
    "printmd('#### Results as Markdown text')\n",
    "printmd('<br> Rotation speed <br> *f*<sub>rpm</sub> = '+str(speed_rpm)+ ' rpm')\n",
    "printmd('Radius <br> *r* =  '+str(r)+ ' m')\n",
    "printmd('Frequency <br> *f* =  '+str(f)+ ' Hz')\n",
    "printmd('Period <br>  *T* = '+str(T)+ ' s')\n",
    "printmd('Angular speed <br> &omega; = '+str(omega)+ ' rad/s')\n",
    "printmd('Angular speed <br> &omega;<sub>deg</sub> = ' + str(omega_deg) + ' deg/s')\n",
    "printmd('Linear speed <br> v = ' + str(v) + ' m/s')\n",
    "printmd('Acceleration <br> a<sub>c</sub> = '+ str(a) + ' m/s<sup>2</sup>')\n",
    "\n",
    "print()\n",
    "\n",
    "# display the results as a Markdown table\n",
    "\n",
    "printmd('#### Results as a Markdown table')\n",
    "printmd(\n",
    "\"\"\"\n",
    "|variable|symbol|value|unit|\n",
    "|-------|:-:|-----|:-:|\n",
    "|Rotation speed| f<sub>rpm</sub> | {one}|rpm |\n",
    "|Radius| r | {two} | m|\n",
    "| Frequency | f | {three:0.3f} | Hz |\n",
    "| Period | T | {four:0.3f} | s |\n",
    "| Angular speed | &omega;| {five:0.3f} | rad/s |\n",
    "| Angular speed | &omega;<sub>deg</sub> | {six:0.3f} | deg/s |\n",
    "| Linear speed | v | {seven:0.3f} | m/s |\n",
    "| Acceleration | a<sub>c</sub> | {eight:0.3f} |  m/s<sup>2</sup> | \n",
    "\"\"\".format(one = speed_rpm, two = r, three = f, four = T, five = omega, six = omega_deg, seven = v, eight = a))\n",
    "\n",
    "print()\n",
    "\n",
    "# display the results as an HTML table\n",
    "\n",
    "printmd('#### Results as an HTML table')\n",
    "\n",
    "myResults = '<table style=\"border:1px solid green;margin-left:auto;margin-right:auto;padding:2px;border-spacing:20px;\" >' + \\\n",
    "'<tbody><tr><td>Rotation speed</td><td>f<sub>rpm</sub></td><td>' + str(speed_rpm) + '</td><td>' + ' rpm'+'</td>' + \\\n",
    "'</tr><tr><td>'+ 'Radius'+ '</td><td>r</td><td>' + str(r)+ '</td><td>' + 'm' + '</td></tr>' + \\\n",
    "'<td>Frequency</td><td>f</td><td>'+str(format(f))+'</td><td>' + 'Hz' + '</td></tr>' + \\\n",
    "'<td>Period</td><td>T</td><td>'+str(T)+'</td><td>' + 's' + '</td></tr>' + \\\n",
    "'<td>Angular speed</td><td>&omega;</td><td>'+str(omega)+'</td><td>' + 'rad/s' + '</td></tr>' + \\\n",
    "'<td>Angular speed</td><td>&omega;<sub>deg</sub></td><td>'+str(omega_deg)+'</td><td>' + 'deg/s' + '</td></tr>' + \\\n",
    "'<td>Linear speed</td><td>v</td><td>'+str(v)+'</td><td>' + 'm/s' + '</td></tr>' + \\\n",
    "'<td>Acceleration</td><td>a<sub>c</sub></td><td>'+str(a)+'</td><td>' + 'm/s<sup>2</sup>' + '</td></tr>' + \\\n",
    "'</tbody></table>'\n",
    "printmd(myResults)\n",
    "\n",
    "print()"
   ]
  },
  {
   "cell_type": "markdown",
   "metadata": {},
   "source": [
    "&nbsp;\n",
    "<hr>\n",
    "\n",
    "> If you want to run the Python code in the **binder** environment online,\n",
    "\n",
    "[![Binder](https://mybinder.org/badge_logo.svg)](https://mybinder.org/v2/gh/POSS-UniMe/simple-physics-with-Python/HEAD)\n",
    "\n",
    "<hr>\n",
    "&nbsp;\n",
    "\n",
    "\n",
    "### Get a feel of\n",
    "A particle performs a uniform circular motion on a circumference whose radius is $r = 2 m$.\n",
    "* What is the value of the rotational rate needed to produce a centripetal acceleration of $9.8 m/s^2$ <br/>(i.e. equal to the acceleration of gravity)?\n",
    "* What is the corresponding value of the linear speed?\n",
    "\n",
    "&nbsp;\n",
    "\n",
    "From $a_c = \\omega^2 r$ we obtain\n",
    "\n",
    "$$ \\omega = \\sqrt{\\dfrac{a_c}{r}} $$\n",
    "\n",
    "On the other hand, since $f = \\dfrac{\\omega}{2\\pi}$ we have\n",
    "\n",
    "$$ f = \\dfrac {1}{2\\pi} \\sqrt{\\dfrac{a_c}{r}} $$\n",
    "\n",
    "and finally, \n",
    "\n",
    "$$ f_{rpm} = 60 \\dfrac {1}{2\\pi} \\sqrt{\\dfrac{a_c}{r}} $$\n",
    "\n",
    "&nbsp;\n",
    "\n",
    "The linear speed is\n",
    "\n",
    "$$ v = \\omega r = r \\sqrt{\\dfrac{a_c}{r}} =  \\sqrt{a_c r}$$"
   ]
  },
  {
   "cell_type": "markdown",
   "metadata": {},
   "source": [
    "#### Python script\n",
    "\n",
    "With the following script we make calculations and show the results in as a nicely formatted output."
   ]
  },
  {
   "cell_type": "code",
   "execution_count": 2,
   "metadata": {},
   "outputs": [
    {
     "name": "stdout",
     "output_type": "stream",
     "text": [
      "\n"
     ]
    },
    {
     "data": {
      "text/markdown": [
       "Required **rotational speed** *f*<sub>rpm</sub> = 21.138 rpm"
      ],
      "text/plain": [
       "<IPython.core.display.Markdown object>"
      ]
     },
     "metadata": {},
     "output_type": "display_data"
    },
    {
     "data": {
      "text/markdown": [
       "**Linear speed** *v* = 4.427 m/s = 15.938 km/h"
      ],
      "text/plain": [
       "<IPython.core.display.Markdown object>"
      ]
     },
     "metadata": {},
     "output_type": "display_data"
    },
    {
     "name": "stdout",
     "output_type": "stream",
     "text": [
      "\n"
     ]
    }
   ],
   "source": [
    "a = 9.8   # acceleration (m/s^2)\n",
    "r = 2     # radius (m)\n",
    "f_rpm = 30*np.sqrt(a/r)/np.pi\n",
    "v = np.sqrt(a*r)\n",
    "print()\n",
    "display(Markdown(\n",
    "    'Required **rotational speed** *f*<sub>rpm</sub> = {rotspeed:0.3f} rpm'.format(rotspeed=f_rpm)\n",
    "))\n",
    "display(Markdown(\n",
    "    '**Linear speed** *v* = {linearspeed:0.3f} m/s = {speedkmh:0.3f} km/h'.format(linearspeed=v, speedkmh=v*3.6)\n",
    "))\n",
    "print()\n"
   ]
  },
  {
   "cell_type": "markdown",
   "metadata": {},
   "source": [
    "## What we have learned\n",
    "*Physics*\n",
    "* Angular speed, rotation speed, rotation rate\n",
    "* Relation between linear speed and angular speed\n",
    "* Acceleration in the uniform circular motion\n",
    "\n",
    "*Python*\n",
    "* Format text of Markdown cells in Jupyter notebooks\n",
    "* Display the results of Python script as Markdown text and tables"
   ]
  },
  {
   "cell_type": "markdown",
   "metadata": {},
   "source": [
    "## References and notes"
   ]
  },
  {
   "cell_type": "markdown",
   "metadata": {},
   "source": [
    "#### Format text in Jupyter notebook with Markdown\n",
    "* 1.[Markdown in Jupyter notebooks](https://www.earthdatascience.org/courses/intro-to-earth-data-science/file-formats/use-text-files/format-text-with-markdown-jupyter-notebook/)\n",
    "* 2.[Colored boxes](https://medium.com/analytics-vidhya/the-ultimate-markdown-guide-for-jupyter-notebook-d5e5abf728fd)\n",
    "* 3.Text alignment\n",
    "* 4.[Greek letters and symbols in HTML](https://www.htmlhelp.com/reference/html40/entities/symbols.html)\n",
    "* 5.[Subscripts](https://developer.mozilla.org/en-US/docs/Web/HTML/Element/sub)\n",
    "* 6.[Superscript tags](https://www.geeksforgeeks.org/html-subscript-superscript-tags/)\n",
    "* 7.New line in the same paragraph with      ```     <br/>      ``` \n",
    "* 8.[Tables in Markdown](https://www.pluralsight.com/guides/working-tables-github-markdown)\n",
    "\n",
    "#### Output the results of Python code as Markdown text\n",
    "* [9.](https://discourse.jupyter.org/t/how-to-add-markdown-inside-a-function-to-pretty-print-equation/2719), [10.](https://stackoverflow.com/questions/36288670/how-to-programmatically-generate-markdown-output-in-jupyter-notebooks), [11.](https://stackoverflow.com/questions/52812231/print-variable-in-jupyter-notebook-markdown-cell-python), [12.](https://github.com/ipython-contrib/jupyter_contrib_nbextensions), [13.](https://jupyter-contrib-nbextensions.readthedocs.io/en/latest/nbextensions/python-markdown/readme.html)\n",
    "\n",
    "#### Output the results of Python code as a Table\n",
    "* [14.](https://www.datacamp.com/community/tutorials/markdown-in-jupyter-notebook), [15.](https://medium.com/analytics-vidhya/the-ultimate-markdown-guide-for-jupyter-notebook-d5e5abf728fd)\n",
    "\n",
    "&nbsp;\n",
    "\n",
    "### Copyright and License\n",
    "--------------------------\n",
    "(c) 2021 Andrea Mandanici, Giuseppe Mandaglio, Giovanni Pirrotta. All content is under Creative Common Attribution CC BY 4.0 and all code is under BSD 3-Clause License. Notebook based on the Italian version (c) 2020 Andrea Mandanici, Marco Guarnera, Giuseppe Mandaglio, Giovanni Pirrotta. All content is under Creative Common Attribution  <a rel=\"license\" href=\"https://creativecommons.org/licenses/by/4.0\" > CC BY 4.0 <a/> \n",
    " and all code is under [BSD 3-Clause License](https://opensource.org/licenses/BSD-3-Clause)"
   ]
  },
  {
   "cell_type": "code",
   "execution_count": null,
   "metadata": {},
   "outputs": [],
   "source": []
  }
 ],
 "metadata": {
  "kernelspec": {
   "display_name": "Python 3",
   "language": "python",
   "name": "python3"
  },
  "language_info": {
   "codemirror_mode": {
    "name": "ipython",
    "version": 3
   },
   "file_extension": ".py",
   "mimetype": "text/x-python",
   "name": "python",
   "nbconvert_exporter": "python",
   "pygments_lexer": "ipython3",
   "version": "3.7.4"
  }
 },
 "nbformat": 4,
 "nbformat_minor": 2
}
