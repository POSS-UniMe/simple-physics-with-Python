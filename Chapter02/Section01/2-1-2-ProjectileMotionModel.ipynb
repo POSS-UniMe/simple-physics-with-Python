{
 "cells": [
  {
   "cell_type": "markdown",
   "metadata": {},
   "source": [
    "# Projectile motion\n",
    "\n",
    "![](img/WaterJets.jpg)\n",
    "\n",
    "\n",
    "## Model\n",
    "\n",
    "\n",
    "The study of the projectile motion reveals that this kind of motion can be understood as a composition of two motions:\n",
    "* a **motion with constant velocity** along the horizontal direction ($x$ axis)\n",
    "* a **motion with constant acceleration** along the vertical direction ($y$ axis)\n",
    "\n",
    "Here we want to have a closer look to the different aspects of the model adopted for the projectile motion\n",
    "and finally we want to put together the pieces of the puzzle and construct the **velocity vector**, how it appears in different positions along the trajectory.\n",
    "\n",
    "We will use the **numpy** module for managing numerical arrays and for evaluating the sine function. \n",
    "\n",
    "We will use the **matplotlib** module for generating the plots."
   ]
  },
  {
   "cell_type": "markdown",
   "metadata": {},
   "source": [
    "> In the following we will exploit the features of Jupyter Notebook and we will prepare, step by step, suitable lines of Python code for studying our problem.\n",
    "\n",
    "&nbsp;"
   ]
  },
  {
   "cell_type": "markdown",
   "metadata": {},
   "source": [
    "#### Import the libraries (modules)"
   ]
  },
  {
   "cell_type": "code",
   "execution_count": 1,
   "metadata": {},
   "outputs": [],
   "source": [
    "import numpy as np\n",
    "import matplotlib.pyplot as plt"
   ]
  },
  {
   "cell_type": "markdown",
   "metadata": {},
   "source": [
    "&nbsp;\n",
    "\n",
    "#### Assign the values of some known variables"
   ]
  },
  {
   "cell_type": "code",
   "execution_count": 2,
   "metadata": {},
   "outputs": [],
   "source": [
    "v0 =  4             # magnitude of the initial velocity (m/s)\n",
    "\n",
    "theta0 = np.pi/4    # angle between the velocity vector at t = 0 and the horizontal direction (radianti)\n",
    "                    # measured in radians\n",
    "    \n",
    "g = 9.8             # acceleration of gravity (m/s^2)\n"
   ]
  },
  {
   "cell_type": "markdown",
   "metadata": {},
   "source": [
    "&nbsp;\n",
    "\n",
    "#### Use the equations for calculating the value of some relevant variables"
   ]
  },
  {
   "cell_type": "code",
   "execution_count": 3,
   "metadata": {},
   "outputs": [],
   "source": [
    "R = (v0**2) * np.sin(2*theta0) / g   #   horizontal range\n",
    "\n",
    "tB = 2 * v0 * np.sin(theta0) / g     #   time of flight\n",
    "\n",
    "h = ((v0*np.sin(theta0))**2)/g       #   maximum altitude\n"
   ]
  },
  {
   "cell_type": "markdown",
   "metadata": {},
   "source": [
    "&nbsp;\n",
    "\n",
    "#### Generate a numerical array of values of time\n",
    "\n",
    "In particular, we want a set of values linearly spaced in the range between the initial time $t = 0$ and the time of flight $t_B$."
   ]
  },
  {
   "cell_type": "code",
   "execution_count": 4,
   "metadata": {},
   "outputs": [],
   "source": [
    "t = np.linspace(0, tB, 128)    "
   ]
  },
  {
   "cell_type": "markdown",
   "metadata": {},
   "source": [
    "&nbsp;\n",
    "\n",
    "#### Evaluate the position\n",
    "We want to calculate the values of the coordinates $x$ and $y$ of the projectile in correspondance with selected values of time."
   ]
  },
  {
   "cell_type": "code",
   "execution_count": 5,
   "metadata": {},
   "outputs": [],
   "source": [
    "x = v0 * np.cos(theta0)*t\n",
    "y = v0 * np.sin(theta0)*t - 0.5 * g * t**2"
   ]
  },
  {
   "cell_type": "markdown",
   "metadata": {},
   "source": [
    "&nbsp;\n",
    "\n",
    "#### Evaluate the components of the initial velocity vector\n",
    "\n",
    "We want to calculate the $x$-component and the $y$-component of the initial velocity vector"
   ]
  },
  {
   "cell_type": "code",
   "execution_count": 6,
   "metadata": {},
   "outputs": [],
   "source": [
    "v0x = v0 * np.cos(theta0)\n",
    "v0y = v0 * np.sin(theta0)"
   ]
  },
  {
   "cell_type": "markdown",
   "metadata": {},
   "source": [
    "&nbsp;\n",
    "\n",
    "#### Evaluate the components of the velocity vector at each given value of time\n",
    "Calculate the $x$-component of the velocity in correspondance with each of the values of time contained in the numerical array **t**\n"
   ]
  },
  {
   "cell_type": "code",
   "execution_count": 7,
   "metadata": {},
   "outputs": [],
   "source": [
    "vx = np.ones(len(t))*v0x"
   ]
  },
  {
   "cell_type": "markdown",
   "metadata": {},
   "source": [
    "&nbsp;\n",
    "\n",
    "Calculate the $y$-component of the velocity in correspondance with each of the values of time contained in the numerical array **t**"
   ]
  },
  {
   "cell_type": "code",
   "execution_count": 8,
   "metadata": {},
   "outputs": [],
   "source": [
    "vy = v0y - g * t"
   ]
  },
  {
   "cell_type": "markdown",
   "metadata": {},
   "source": [
    "&nbsp;\n",
    "\n",
    "#### Plotting the components of the velocity vector vs. time\n",
    "\n",
    "We want to prepare a figure to show the values of $v_x$ as a function of time and, analogously, the values of $v_y$ as a function of time"
   ]
  },
  {
   "cell_type": "code",
   "execution_count": 9,
   "metadata": {},
   "outputs": [
    {
     "name": "stdout",
     "output_type": "stream",
     "text": [
      "\n"
     ]
    },
    {
     "data": {
      "image/png": "[encoded data removed]",
      "text/plain": [
       "<Figure size 1008x288 with 2 Axes>"
      ]
     },
     "metadata": {
      "needs_background": "light"
     },
     "output_type": "display_data"
    }
   ],
   "source": [
    "print()\n",
    "plt.figure(1, figsize = (14,4))\n",
    "\n",
    "plt.subplot(1, 2, 1)\n",
    "plt.plot(t,vx)\n",
    "plt.xlabel(' time $t$ (s)')\n",
    "plt.ylabel(' $v_x$ (m/s)')\n",
    "\n",
    "plt.subplot(1, 2, 2)\n",
    "plt.plot(t, vy)\n",
    "plt.xlabel(' time $t$ (s)')\n",
    "plt.ylabel(' $v_y$ (m/s)')\n",
    "\n",
    "plt.show()"
   ]
  },
  {
   "cell_type": "markdown",
   "metadata": {},
   "source": [
    "&nbsp;\n",
    "\n",
    "\n",
    "#### Plotting the coordinates of the projectile vs. time\n",
    "We want to prepare a figure to show the values of $x$ as a function of time and,\n",
    "analogously, the values of $y$ as a function of time"
   ]
  },
  {
   "cell_type": "code",
   "execution_count": 10,
   "metadata": {},
   "outputs": [
    {
     "name": "stdout",
     "output_type": "stream",
     "text": [
      "\n"
     ]
    },
    {
     "data": {
      "image/png": "[encoded data removed]",
      "text/plain": [
       "<Figure size 1008x288 with 2 Axes>"
      ]
     },
     "metadata": {
      "needs_background": "light"
     },
     "output_type": "display_data"
    }
   ],
   "source": [
    "print()\n",
    "plt.figure(2, figsize = (14,4))\n",
    "\n",
    "plt.subplot(1, 2, 1)\n",
    "plt.plot(t,x)\n",
    "plt.xlabel(' time $t$ (s)')\n",
    "plt.ylabel(' $x$ (m)')\n",
    "\n",
    "plt.subplot(1, 2, 2)\n",
    "plt.plot(t, y)\n",
    "plt.xlabel(' time $t$ (s)')\n",
    "plt.ylabel(' $y$ (m)')\n",
    "plt.ylim(ymax = 3.5)\n",
    "\n",
    "plt.show()"
   ]
  },
  {
   "cell_type": "markdown",
   "metadata": {},
   "source": [
    "&nbsp;\n",
    "\n",
    "#### Plotting the trajectory\n",
    "We want to construct a curve that represents the trajectory, showing the position of the projectile with respect to the Cartesian axes at several different values of time. "
   ]
  },
  {
   "cell_type": "code",
   "execution_count": 11,
   "metadata": {},
   "outputs": [
    {
     "name": "stdout",
     "output_type": "stream",
     "text": [
      "\n"
     ]
    },
    {
     "data": {
      "image/png": "[encoded data removed]",
      "text/plain": [
       "<Figure size 720x288 with 1 Axes>"
      ]
     },
     "metadata": {
      "needs_background": "light"
     },
     "output_type": "display_data"
    }
   ],
   "source": [
    "print()\n",
    "plt.figure(3, figsize = (10,4))\n",
    "plt.plot(x,y)\n",
    "plt.xlabel('$x$ (m)')\n",
    "plt.ylabel('$y$ (m)')\n",
    "plt.xlim(left=0)\n",
    "plt.ylim(bottom = 0)\n",
    "\n",
    "plt.gca().set_aspect('equal', adjustable = 'box')    # this is important"
   ]
  },
  {
   "cell_type": "markdown",
   "metadata": {},
   "source": [
    "&nbsp;\n",
    "\n",
    "#### Plotting the velocity vector 'in real time'\n",
    "\n",
    "The final task is that of representing the velocity vector and its components at several positions along the trajectory.\n",
    "\n",
    "* We use a slider to choose the value of a numerical index, which corresponds to progressive values of time. The corresponding values of the coordinates $x$ and $y$ will be also printed."
   ]
  },
  {
   "cell_type": "markdown",
   "metadata": {},
   "source": [
    "> If you want to run the Python code in the **binder** environment online,\n",
    "[![Binder](https://mybinder.org/badge_logo.svg)](https://mybinder.org/v2/gh/POSS-UniMe/simple-physics-with-Python/HEAD)"
   ]
  },
  {
   "cell_type": "code",
   "execution_count": 16,
   "metadata": {},
   "outputs": [
    {
     "data": {
      "application/vnd.jupyter.widget-view+json": {
       "model_id": "1e85987702fc43398142a7c21a149151",
       "version_major": 2,
       "version_minor": 0
      },
      "text/plain": [
       "interactive(children=(IntSlider(value=0, continuous_update=False, description='Marker', max=127), Output()), _…"
      ]
     },
     "metadata": {},
     "output_type": "display_data"
    },
    {
     "data": {
      "text/plain": [
       "<function __main__.calculate(Marker)>"
      ]
     },
     "execution_count": 16,
     "metadata": {},
     "output_type": "execute_result"
    }
   ],
   "source": [
    "import ipywidgets as widgets\n",
    "\n",
    "sliderMarker = widgets.IntSlider(min = 0, max = (np.size(t)-1), step = 1, value = 0, continuous_update = False)\n",
    "\n",
    "def calculate(Marker):\n",
    "        print('Marker = # ',Marker, '\\n')\n",
    "        MarkerTime = t[Marker]   \n",
    "        print('Time t = ', MarkerTime, 's', '\\n')\n",
    "        Marker_x = x[Marker]\n",
    "        print('Coordinate x = ', Marker_x, 'm', '\\n')\n",
    "        Marker_y = y[Marker]\n",
    "        print('Coordinate y = ', Marker_y, 'm', '\\n')\n",
    "        makeplots(Marker)\n",
    "               \n",
    "def makeplots(Marker):\n",
    "    fig04 = plt.figure(4, figsize=(13, 8))\n",
    "   \n",
    "    plt.axhline(color = 'gray', zorder = -1)\n",
    "    plt.axvline(color = 'gray', zorder = -1)\n",
    "    plt.plot(x,y)\n",
    "    #plt.plot(x[Marker],y[Marker], 'o', color='red', markersize = 6)\n",
    "    plt.quiver(x[Marker],y[Marker], vx[Marker], 0, color = 'yellow', scale = v0 * 10 )\n",
    "    plt.quiver(x[Marker],y[Marker], 0, vy[Marker], color = 'pink', scale = v0 * 10 )\n",
    "    plt.quiver(x[Marker],y[Marker], vx[Marker], vy[Marker], color = 'cyan', scale = v0 * 10 )\n",
    "    plt.xlabel('$x$ (m)')\n",
    "    plt.ylabel('$y$ (m)')\n",
    "    plt.ylim(ymin = -0.15)\n",
    "    plt.gca().set_aspect('equal', adjustable = 'box')    # this is important\n",
    "\n",
    "widgets.interact(calculate, Marker = sliderMarker)"
   ]
  },
  {
   "cell_type": "markdown",
   "metadata": {},
   "source": [
    "### Get a feel of\n",
    "\n",
    "As a consequence of its definition, **the velocity vector is always tangent to the trajectory** of the point-like body.\n",
    "\n",
    "The interactive plot shown above provides a direct evidence that this statement is correct.\n",
    "\n",
    "&nbsp;"
   ]
  },
  {
   "cell_type": "markdown",
   "metadata": {},
   "source": [
    "### Images\n",
    "\n",
    "Image 1. Water jets in Piazza Cairoli, Messina, Italy."
   ]
  },
  {
   "cell_type": "markdown",
   "metadata": {},
   "source": [
    "### Copyright and License\n",
    "--------------------------\n",
    "(c) 2021 Andrea Mandanici, Giuseppe Mandaglio, Giovanni Pirrotta. All content is under Creative Common Attribution  <a rel=\"license\" href=\"https://creativecommons.org/licenses/by/4.0\">CC BY 4.0</a> \n",
    " and all code is under [BSD 3-Clause License](https://opensource.org/licenses/BSD-3-Clause)."
   ]
  }
 ],
 "metadata": {
  "kernelspec": {
   "display_name": "Python 3",
   "language": "python",
   "name": "python3"
  },
  "language_info": {
   "codemirror_mode": {
    "name": "ipython",
    "version": 3
   },
   "file_extension": ".py",
   "mimetype": "text/x-python",
   "name": "python",
   "nbconvert_exporter": "python",
   "pygments_lexer": "ipython3",
   "version": "3.7.4"
  }
 },
 "nbformat": 4,
 "nbformat_minor": 2
}
